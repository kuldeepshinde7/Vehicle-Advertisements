{
 "cells": [
  {
   "cell_type": "markdown",
   "id": "a93b2f0a-5f1d-4dac-bb37-87ba163779a9",
   "metadata": {},
   "source": [
    "# Problem Statement: Develop a predictive model to estimate the price of a vehicle based on the provided features."
   ]
  },
  {
   "cell_type": "code",
   "execution_count": 1,
   "id": "162991f2-6fcb-446b-8f0b-acd75c1296e4",
   "metadata": {},
   "outputs": [],
   "source": [
    "#importing all required libraries\n",
    "import pandas as pd\n",
    "import numpy as np\n",
    "import matplotlib.pyplot as plt\n",
    "import seaborn as sns\n",
    "import ast"
   ]
  },
  {
   "cell_type": "code",
   "execution_count": 2,
   "id": "e77c0638-9b3e-4ec8-8b60-05cb397992aa",
   "metadata": {},
   "outputs": [],
   "source": [
    "from sklearn.model_selection import train_test_split, GridSearchCV\n",
    "from sklearn.linear_model import LinearRegression, Ridge, Lasso\n",
    "from sklearn.feature_selection import RFE"
   ]
  },
  {
   "cell_type": "code",
   "execution_count": 3,
   "id": "faecae8d-9f37-4ea8-8466-b1b1ca73a97a",
   "metadata": {},
   "outputs": [],
   "source": [
    "import os"
   ]
  },
  {
   "cell_type": "code",
   "execution_count": 4,
   "id": "a55a95e8-e4bb-4e9d-a403-03f5b71c0284",
   "metadata": {},
   "outputs": [
    {
     "data": {
      "text/plain": [
       "'C:\\\\Users\\\\Kuldeep'"
      ]
     },
     "execution_count": 4,
     "metadata": {},
     "output_type": "execute_result"
    }
   ],
   "source": [
    "os.getcwd()"
   ]
  },
  {
   "cell_type": "code",
   "execution_count": 5,
   "id": "52811409-752c-4cd4-8b36-384760189c6b",
   "metadata": {},
   "outputs": [],
   "source": [
    "os.chdir(\"C:/Users/Kuldeep/Desktop/cdac mumbai new\")"
   ]
  },
  {
   "cell_type": "code",
   "execution_count": 6,
   "id": "b1989289-bc97-4f0c-bbde-410d34db5985",
   "metadata": {},
   "outputs": [],
   "source": [
    "df=pd.read_csv(\"vehicles.csv\")    #read the file"
   ]
  },
  {
   "cell_type": "code",
   "execution_count": 7,
   "id": "a07736cc-f423-4709-90f4-ef4dfa6c597f",
   "metadata": {},
   "outputs": [
    {
     "data": {
      "text/html": [
       "<div>\n",
       "<style scoped>\n",
       "    .dataframe tbody tr th:only-of-type {\n",
       "        vertical-align: middle;\n",
       "    }\n",
       "\n",
       "    .dataframe tbody tr th {\n",
       "        vertical-align: top;\n",
       "    }\n",
       "\n",
       "    .dataframe thead th {\n",
       "        text-align: right;\n",
       "    }\n",
       "</style>\n",
       "<table border=\"1\" class=\"dataframe\">\n",
       "  <thead>\n",
       "    <tr style=\"text-align: right;\">\n",
       "      <th></th>\n",
       "      <th>ad_title</th>\n",
       "      <th>ad_description</th>\n",
       "      <th>details</th>\n",
       "      <th>slug</th>\n",
       "      <th>title</th>\n",
       "      <th>type</th>\n",
       "      <th>price</th>\n",
       "      <th>timestamp</th>\n",
       "      <th>posted_date</th>\n",
       "      <th>deactivation_date</th>\n",
       "      <th>...</th>\n",
       "      <th>is_doorstep_delivery</th>\n",
       "      <th>is_dsd_applicable</th>\n",
       "      <th>is_member</th>\n",
       "      <th>is_authorized_dealer</th>\n",
       "      <th>is_featured_member</th>\n",
       "      <th>is_verified</th>\n",
       "      <th>membership_level</th>\n",
       "      <th>member_since</th>\n",
       "      <th>properties</th>\n",
       "      <th>user</th>\n",
       "    </tr>\n",
       "  </thead>\n",
       "  <tbody>\n",
       "    <tr>\n",
       "      <th>0</th>\n",
       "      <td>Nissan Tiida Alternator  in Maharagama | ikman</td>\n",
       "      <td>**TISSA AUTO PARTS** Dealer of used Japanese m...</td>\n",
       "      <td>NaN</td>\n",
       "      <td>nissan-tiida-alternator-for-sale-colombo-3</td>\n",
       "      <td>Nissan Tiida Alternator</td>\n",
       "      <td>for_sale</td>\n",
       "      <td>Rs 18,000</td>\n",
       "      <td>23 Feb 11:35 pm</td>\n",
       "      <td>2023-02-23T23:35:10+05:30</td>\n",
       "      <td>2022-05-30T17:13:04.000Z</td>\n",
       "      <td>...</td>\n",
       "      <td>False</td>\n",
       "      <td>False</td>\n",
       "      <td>True</td>\n",
       "      <td>False</td>\n",
       "      <td>False</td>\n",
       "      <td>True</td>\n",
       "      <td>premium</td>\n",
       "      <td>September 2019</td>\n",
       "      <td>{'Condition': 'Reconditioned', 'Part or Access...</td>\n",
       "      <td>a6681dea494390daa516a6d2bdcb36e08c318574a13413...</td>\n",
       "    </tr>\n",
       "    <tr>\n",
       "      <th>1</th>\n",
       "      <td>Axio 165 Tail Light  in Kotte | ikman</td>\n",
       "      <td>Imported from Japan \\n\\nRight side available \\...</td>\n",
       "      <td>NaN</td>\n",
       "      <td>axio-165-tail-light-for-sale-colombo-14</td>\n",
       "      <td>Axio 165 Tail Light</td>\n",
       "      <td>for_sale</td>\n",
       "      <td>Rs 67,000</td>\n",
       "      <td>23 Feb 8:32 am</td>\n",
       "      <td>2023-02-23T08:32:44+05:30</td>\n",
       "      <td>2022-03-31T16:27:59.000Z</td>\n",
       "      <td>...</td>\n",
       "      <td>False</td>\n",
       "      <td>False</td>\n",
       "      <td>True</td>\n",
       "      <td>False</td>\n",
       "      <td>False</td>\n",
       "      <td>True</td>\n",
       "      <td>plus</td>\n",
       "      <td>June 2018</td>\n",
       "      <td>{'Condition': 'Reconditioned', 'Part or Access...</td>\n",
       "      <td>5d99b8e45a1bb318079da7a36392d9025e1644cb49ecbf...</td>\n",
       "    </tr>\n",
       "    <tr>\n",
       "      <th>2</th>\n",
       "      <td>Axio 165 / 161 Head light  in Kotte | ikman.lk</td>\n",
       "      <td>Imported from Japan \\n\\nAuto focus headlight a...</td>\n",
       "      <td>NaN</td>\n",
       "      <td>axio-165-161-head-light-for-sale-colombo</td>\n",
       "      <td>Axio 165 / 161 Head light</td>\n",
       "      <td>for_sale</td>\n",
       "      <td>Rs 85,000</td>\n",
       "      <td>01 Dec 8:27 pm</td>\n",
       "      <td>2022-12-01T20:27:49+05:30</td>\n",
       "      <td>2022-03-31T14:03:57.000Z</td>\n",
       "      <td>...</td>\n",
       "      <td>False</td>\n",
       "      <td>False</td>\n",
       "      <td>True</td>\n",
       "      <td>False</td>\n",
       "      <td>False</td>\n",
       "      <td>True</td>\n",
       "      <td>plus</td>\n",
       "      <td>June 2018</td>\n",
       "      <td>{'Condition': 'Reconditioned', 'Part or Access...</td>\n",
       "      <td>5d99b8e45a1bb318079da7a36392d9025e1644cb49ecbf...</td>\n",
       "    </tr>\n",
       "    <tr>\n",
       "      <th>3</th>\n",
       "      <td>Vigo side step ( Foot board)  in Kottawa | ikman</td>\n",
       "      <td>Hilux Vigo side step\\nBrand New Thaiwan\\nGood ...</td>\n",
       "      <td>NaN</td>\n",
       "      <td>vigo-side-step-foot-board-for-sale-colombo</td>\n",
       "      <td>Vigo side step ( Foot board)</td>\n",
       "      <td>for_sale</td>\n",
       "      <td>Rs 47,000</td>\n",
       "      <td>04 Dec 2:47 pm</td>\n",
       "      <td>2022-12-04T14:47:27+05:30</td>\n",
       "      <td>2022-07-29T13:22:59.000Z</td>\n",
       "      <td>...</td>\n",
       "      <td>False</td>\n",
       "      <td>False</td>\n",
       "      <td>True</td>\n",
       "      <td>False</td>\n",
       "      <td>False</td>\n",
       "      <td>False</td>\n",
       "      <td>plus</td>\n",
       "      <td>February 2017</td>\n",
       "      <td>{'Condition': 'New', 'Part or Accessory Type':...</td>\n",
       "      <td>634d93e14a62d9de7b400ee3679ae1d5506f4252ff0580...</td>\n",
       "    </tr>\n",
       "    <tr>\n",
       "      <th>4</th>\n",
       "      <td>Vigo Dickey Door Garnish Cover  in Kottawa | i...</td>\n",
       "      <td>Hilux Vigo ( 2005, 2009 ) dickey door garnish set</td>\n",
       "      <td>NaN</td>\n",
       "      <td>vigo-dickey-door-garnish-cover-for-sale-colombo-1</td>\n",
       "      <td>Vigo Dickey Door Garnish Cover</td>\n",
       "      <td>for_sale</td>\n",
       "      <td>Rs 9,000</td>\n",
       "      <td>08 Dec 9:28 am</td>\n",
       "      <td>2022-12-08T09:28:04+05:30</td>\n",
       "      <td>2022-07-29T12:55:44.000Z</td>\n",
       "      <td>...</td>\n",
       "      <td>False</td>\n",
       "      <td>False</td>\n",
       "      <td>True</td>\n",
       "      <td>False</td>\n",
       "      <td>False</td>\n",
       "      <td>False</td>\n",
       "      <td>plus</td>\n",
       "      <td>February 2017</td>\n",
       "      <td>{'Condition': 'New', 'Part or Accessory Type':...</td>\n",
       "      <td>634d93e14a62d9de7b400ee3679ae1d5506f4252ff0580...</td>\n",
       "    </tr>\n",
       "  </tbody>\n",
       "</table>\n",
       "<p>5 rows × 26 columns</p>\n",
       "</div>"
      ],
      "text/plain": [
       "                                            ad_title  \\\n",
       "0     Nissan Tiida Alternator  in Maharagama | ikman   \n",
       "1              Axio 165 Tail Light  in Kotte | ikman   \n",
       "2     Axio 165 / 161 Head light  in Kotte | ikman.lk   \n",
       "3   Vigo side step ( Foot board)  in Kottawa | ikman   \n",
       "4  Vigo Dickey Door Garnish Cover  in Kottawa | i...   \n",
       "\n",
       "                                      ad_description details  \\\n",
       "0  **TISSA AUTO PARTS** Dealer of used Japanese m...     NaN   \n",
       "1  Imported from Japan \\n\\nRight side available \\...     NaN   \n",
       "2  Imported from Japan \\n\\nAuto focus headlight a...     NaN   \n",
       "3  Hilux Vigo side step\\nBrand New Thaiwan\\nGood ...     NaN   \n",
       "4  Hilux Vigo ( 2005, 2009 ) dickey door garnish set     NaN   \n",
       "\n",
       "                                                slug  \\\n",
       "0         nissan-tiida-alternator-for-sale-colombo-3   \n",
       "1            axio-165-tail-light-for-sale-colombo-14   \n",
       "2           axio-165-161-head-light-for-sale-colombo   \n",
       "3         vigo-side-step-foot-board-for-sale-colombo   \n",
       "4  vigo-dickey-door-garnish-cover-for-sale-colombo-1   \n",
       "\n",
       "                            title      type      price        timestamp  \\\n",
       "0         Nissan Tiida Alternator  for_sale  Rs 18,000  23 Feb 11:35 pm   \n",
       "1             Axio 165 Tail Light  for_sale  Rs 67,000   23 Feb 8:32 am   \n",
       "2       Axio 165 / 161 Head light  for_sale  Rs 85,000   01 Dec 8:27 pm   \n",
       "3    Vigo side step ( Foot board)  for_sale  Rs 47,000   04 Dec 2:47 pm   \n",
       "4  Vigo Dickey Door Garnish Cover  for_sale   Rs 9,000   08 Dec 9:28 am   \n",
       "\n",
       "                 posted_date         deactivation_date  ...  \\\n",
       "0  2023-02-23T23:35:10+05:30  2022-05-30T17:13:04.000Z  ...   \n",
       "1  2023-02-23T08:32:44+05:30  2022-03-31T16:27:59.000Z  ...   \n",
       "2  2022-12-01T20:27:49+05:30  2022-03-31T14:03:57.000Z  ...   \n",
       "3  2022-12-04T14:47:27+05:30  2022-07-29T13:22:59.000Z  ...   \n",
       "4  2022-12-08T09:28:04+05:30  2022-07-29T12:55:44.000Z  ...   \n",
       "\n",
       "  is_doorstep_delivery is_dsd_applicable is_member is_authorized_dealer  \\\n",
       "0                False             False      True                False   \n",
       "1                False             False      True                False   \n",
       "2                False             False      True                False   \n",
       "3                False             False      True                False   \n",
       "4                False             False      True                False   \n",
       "\n",
       "  is_featured_member  is_verified  membership_level    member_since  \\\n",
       "0              False         True           premium  September 2019   \n",
       "1              False         True              plus       June 2018   \n",
       "2              False         True              plus       June 2018   \n",
       "3              False        False              plus   February 2017   \n",
       "4              False        False              plus   February 2017   \n",
       "\n",
       "                                          properties  \\\n",
       "0  {'Condition': 'Reconditioned', 'Part or Access...   \n",
       "1  {'Condition': 'Reconditioned', 'Part or Access...   \n",
       "2  {'Condition': 'Reconditioned', 'Part or Access...   \n",
       "3  {'Condition': 'New', 'Part or Accessory Type':...   \n",
       "4  {'Condition': 'New', 'Part or Accessory Type':...   \n",
       "\n",
       "                                                user  \n",
       "0  a6681dea494390daa516a6d2bdcb36e08c318574a13413...  \n",
       "1  5d99b8e45a1bb318079da7a36392d9025e1644cb49ecbf...  \n",
       "2  5d99b8e45a1bb318079da7a36392d9025e1644cb49ecbf...  \n",
       "3  634d93e14a62d9de7b400ee3679ae1d5506f4252ff0580...  \n",
       "4  634d93e14a62d9de7b400ee3679ae1d5506f4252ff0580...  \n",
       "\n",
       "[5 rows x 26 columns]"
      ]
     },
     "execution_count": 7,
     "metadata": {},
     "output_type": "execute_result"
    }
   ],
   "source": [
    "df.head()"
   ]
  },
  {
   "cell_type": "code",
   "execution_count": 8,
   "id": "eb59404f-0ad5-469e-a9c7-7a2820477363",
   "metadata": {},
   "outputs": [
    {
     "data": {
      "text/plain": [
       "(258888, 26)"
      ]
     },
     "execution_count": 8,
     "metadata": {},
     "output_type": "execute_result"
    }
   ],
   "source": [
    "df.shape"
   ]
  },
  {
   "cell_type": "code",
   "execution_count": 9,
   "id": "d3d5a4c3-4f40-483e-83aa-6388c04fd793",
   "metadata": {},
   "outputs": [
    {
     "data": {
      "text/plain": [
       "Index(['ad_title', 'ad_description', 'details', 'slug', 'title', 'type',\n",
       "       'price', 'timestamp', 'posted_date', 'deactivation_date', 'category',\n",
       "       'parent_category', 'location', 'geo_region', 'area', 'is_delivery_free',\n",
       "       'is_doorstep_delivery', 'is_dsd_applicable', 'is_member',\n",
       "       'is_authorized_dealer', 'is_featured_member', 'is_verified',\n",
       "       'membership_level', 'member_since', 'properties', 'user'],\n",
       "      dtype='object')"
      ]
     },
     "execution_count": 9,
     "metadata": {},
     "output_type": "execute_result"
    }
   ],
   "source": [
    "df.columns"
   ]
  },
  {
   "cell_type": "code",
   "execution_count": 10,
   "id": "f1d0b81c-c74f-44ca-abb3-ea6c553f4504",
   "metadata": {},
   "outputs": [
    {
     "name": "stdout",
     "output_type": "stream",
     "text": [
      "<class 'pandas.core.frame.DataFrame'>\n",
      "RangeIndex: 258888 entries, 0 to 258887\n",
      "Data columns (total 26 columns):\n",
      " #   Column                Non-Null Count   Dtype \n",
      "---  ------                --------------   ----- \n",
      " 0   ad_title              258888 non-null  object\n",
      " 1   ad_description        258881 non-null  object\n",
      " 2   details               155505 non-null  object\n",
      " 3   slug                  258888 non-null  object\n",
      " 4   title                 258888 non-null  object\n",
      " 5   type                  258888 non-null  object\n",
      " 6   price                 255077 non-null  object\n",
      " 7   timestamp             258882 non-null  object\n",
      " 8   posted_date           258882 non-null  object\n",
      " 9   deactivation_date     258882 non-null  object\n",
      " 10  category              258888 non-null  object\n",
      " 11  parent_category       258888 non-null  object\n",
      " 12  location              258888 non-null  object\n",
      " 13  geo_region            258888 non-null  object\n",
      " 14  area                  258888 non-null  object\n",
      " 15  is_delivery_free      258888 non-null  bool  \n",
      " 16  is_doorstep_delivery  258888 non-null  bool  \n",
      " 17  is_dsd_applicable     258888 non-null  bool  \n",
      " 18  is_member             249838 non-null  object\n",
      " 19  is_authorized_dealer  249838 non-null  object\n",
      " 20  is_featured_member    249838 non-null  object\n",
      " 21  is_verified           258888 non-null  bool  \n",
      " 22  membership_level      258888 non-null  object\n",
      " 23  member_since          108634 non-null  object\n",
      " 24  properties            258888 non-null  object\n",
      " 25  user                  258888 non-null  object\n",
      "dtypes: bool(4), object(22)\n",
      "memory usage: 44.4+ MB\n"
     ]
    }
   ],
   "source": [
    "df.info()"
   ]
  },
  {
   "cell_type": "code",
   "execution_count": 11,
   "id": "d4ce5263-b08c-41a1-85ee-ef9a9ab3d129",
   "metadata": {},
   "outputs": [
    {
     "data": {
      "text/plain": [
       "ad_title                     0\n",
       "ad_description               7\n",
       "details                 103383\n",
       "slug                         0\n",
       "title                        0\n",
       "type                         0\n",
       "price                     3811\n",
       "timestamp                    6\n",
       "posted_date                  6\n",
       "deactivation_date            6\n",
       "category                     0\n",
       "parent_category              0\n",
       "location                     0\n",
       "geo_region                   0\n",
       "area                         0\n",
       "is_delivery_free             0\n",
       "is_doorstep_delivery         0\n",
       "is_dsd_applicable            0\n",
       "is_member                 9050\n",
       "is_authorized_dealer      9050\n",
       "is_featured_member        9050\n",
       "is_verified                  0\n",
       "membership_level             0\n",
       "member_since            150254\n",
       "properties                   0\n",
       "user                         0\n",
       "dtype: int64"
      ]
     },
     "execution_count": 11,
     "metadata": {},
     "output_type": "execute_result"
    }
   ],
   "source": [
    "#check for null vlaues\n",
    "df.isnull().sum()"
   ]
  },
  {
   "cell_type": "code",
   "execution_count": 12,
   "id": "310420f8-d248-4880-b8cc-7799aa4e539b",
   "metadata": {},
   "outputs": [],
   "source": [
    "df=df.drop(['details','member_since'],axis=1)"
   ]
  },
  {
   "cell_type": "code",
   "execution_count": 13,
   "id": "4f9ba11d-b4b9-4683-81fa-3fab6c64a1a6",
   "metadata": {},
   "outputs": [
    {
     "data": {
      "text/plain": [
       "(258888, 24)"
      ]
     },
     "execution_count": 13,
     "metadata": {},
     "output_type": "execute_result"
    }
   ],
   "source": [
    "df.shape"
   ]
  },
  {
   "cell_type": "code",
   "execution_count": 14,
   "id": "51c1a05f-cec1-4e48-81f6-3c9c01c72c56",
   "metadata": {},
   "outputs": [],
   "source": [
    "#dropping all remaining null values\n",
    "df=df.dropna()"
   ]
  },
  {
   "cell_type": "code",
   "execution_count": 15,
   "id": "e9bdbe77-f0d2-40d9-a975-7f1f3d516616",
   "metadata": {},
   "outputs": [
    {
     "data": {
      "text/plain": [
       "ad_title                0\n",
       "ad_description          0\n",
       "slug                    0\n",
       "title                   0\n",
       "type                    0\n",
       "price                   0\n",
       "timestamp               0\n",
       "posted_date             0\n",
       "deactivation_date       0\n",
       "category                0\n",
       "parent_category         0\n",
       "location                0\n",
       "geo_region              0\n",
       "area                    0\n",
       "is_delivery_free        0\n",
       "is_doorstep_delivery    0\n",
       "is_dsd_applicable       0\n",
       "is_member               0\n",
       "is_authorized_dealer    0\n",
       "is_featured_member      0\n",
       "is_verified             0\n",
       "membership_level        0\n",
       "properties              0\n",
       "user                    0\n",
       "dtype: int64"
      ]
     },
     "execution_count": 15,
     "metadata": {},
     "output_type": "execute_result"
    }
   ],
   "source": [
    "df.isnull().sum()"
   ]
  },
  {
   "cell_type": "code",
   "execution_count": 16,
   "id": "16d95953-8ed3-4ce2-bc14-7c90cbb1b179",
   "metadata": {},
   "outputs": [
    {
     "data": {
      "text/plain": [
       "array(['Auto Parts & Accessories', 'Cars', 'Auto Services', 'Rentals',\n",
       "       'Vans', 'Lorries & Trucks', 'Three Wheelers', 'Motorbikes',\n",
       "       'Buses', 'Heavy Duty', 'Tractors', 'Bicycles',\n",
       "       'Boats & Water Transport'], dtype=object)"
      ]
     },
     "execution_count": 16,
     "metadata": {},
     "output_type": "execute_result"
    }
   ],
   "source": [
    "df['category'].unique()    #checking of all unique category"
   ]
  },
  {
   "cell_type": "code",
   "execution_count": 17,
   "id": "1ca3ae0e-a5d4-4bfe-9a0a-e451f4ac1292",
   "metadata": {},
   "outputs": [],
   "source": [
    "df1=df.drop(df[(df['category']=='Auto Parts & Accessories') | (df['category']=='Auto Services') | (df['category']=='Rentals')].index)\n",
    "\n",
    "\n",
    "#we can see there are 3 categories in that auto partes and accessories ,auto services and rentals are not vehicals so \n",
    "# we need to drop those data "
   ]
  },
  {
   "cell_type": "code",
   "execution_count": 18,
   "id": "2d74d0ac-3dd5-47d3-ab10-4677ecea8974",
   "metadata": {},
   "outputs": [
    {
     "data": {
      "text/plain": [
       "array(['Cars', 'Vans', 'Lorries & Trucks', 'Three Wheelers', 'Motorbikes',\n",
       "       'Buses', 'Heavy Duty', 'Tractors', 'Bicycles',\n",
       "       'Boats & Water Transport'], dtype=object)"
      ]
     },
     "execution_count": 18,
     "metadata": {},
     "output_type": "execute_result"
    }
   ],
   "source": [
    "df1['category'].unique()  # after cleaning that data "
   ]
  },
  {
   "cell_type": "code",
   "execution_count": 19,
   "id": "7f016bc0-f2d1-4707-a58c-50d855a8b47e",
   "metadata": {},
   "outputs": [
    {
     "data": {
      "text/plain": [
       "31      Rs 22,000,000\n",
       "1349    Rs 14,500,000\n",
       "1701    Rs 10,500,000\n",
       "1702     Rs 6,500,000\n",
       "1917    Rs 11,500,000\n",
       "Name: price, dtype: object"
      ]
     },
     "execution_count": 19,
     "metadata": {},
     "output_type": "execute_result"
    }
   ],
   "source": [
    "df1['price'].head()   # we can see our value are in Rs 9000 these types of form so we need to convert  these into float"
   ]
  },
  {
   "cell_type": "code",
   "execution_count": 20,
   "id": "d87fe123-6828-497d-b1fc-ee060d9af736",
   "metadata": {},
   "outputs": [],
   "source": [
    "df1['price'] = df1['price'].str.replace('Rs ', '').str.replace(',', '')\n",
    "df1['price'] = df1['price'].apply(lambda x: np.nan if x == 'Negotiable' else float(x))"
   ]
  },
  {
   "cell_type": "code",
   "execution_count": 21,
   "id": "1ec8d172-e495-4d72-9937-2adf2530f2ed",
   "metadata": {},
   "outputs": [],
   "source": [
    "df=df.dropna() #again dropped null values"
   ]
  },
  {
   "cell_type": "code",
   "execution_count": 22,
   "id": "df1d7d98-f1d5-4664-9681-1da41962edab",
   "metadata": {},
   "outputs": [
    {
     "data": {
      "text/plain": [
       "(246050, 24)"
      ]
     },
     "execution_count": 22,
     "metadata": {},
     "output_type": "execute_result"
    }
   ],
   "source": [
    "df.shape"
   ]
  },
  {
   "cell_type": "code",
   "execution_count": 23,
   "id": "b2c6a2fa-8c29-4f10-afbb-598384075b8a",
   "metadata": {},
   "outputs": [],
   "source": [
    "df2=df1.drop(['ad_title','ad_description','parent_category','geo_region','location','slug','title','area','type','timestamp','posted_date','deactivation_date','user'],axis=1)\n",
    "\n",
    "# droped all irrelavent columns and not related data "
   ]
  },
  {
   "cell_type": "code",
   "execution_count": 24,
   "id": "3b474720-b2f7-4dab-94dc-36cbb1157fb6",
   "metadata": {},
   "outputs": [
    {
     "data": {
      "text/plain": [
       "array([\"{'Brand': 'Ssang Yong', 'Model': 'Rexton', 'Trim / Edition': 'Rexton Ultimate d/ca', 'Year of Manufacture': '2019', 'Condition': 'New', 'Transmission': 'Tiptronic', 'Body type': 'SUV / 4x4', 'Fuel type': 'Diesel', 'Engine capacity': '2,200 cc', 'Mileage': '0 km'}\",\n",
       "       \"{'Brand': 'Toyota', 'Model': 'CHR', 'Year of Manufacture': '2017', 'Condition': 'Reconditioned', 'Transmission': 'Tiptronic', 'Body type': 'CoupÃ©/Sports', 'Fuel type': 'Petrol', 'Engine capacity': '1,200 cc', 'Mileage': '9,000 km'}\",\n",
       "       \"{'Brand': 'Toyota', 'Model': 'Axio', 'Trim / Edition': 'Axio', 'Year of Manufacture': '2015', 'Condition': 'Reconditioned', 'Transmission': 'Automatic', 'Body type': 'Saloon', 'Fuel type': 'Hybrid', 'Engine capacity': '1,500 cc', 'Mileage': '24,000 km'}\",\n",
       "       ...,\n",
       "       \"{'Brand': 'Toyota', 'Model': 'Allion', 'Trim / Edition': '260', 'Year of Manufacture': '2009', 'Condition': 'Used', 'Transmission': 'Automatic', 'Body type': 'Saloon', 'Fuel type': 'Petrol', 'Engine capacity': '1,500 cc', 'Mileage': '219,000 km'}\",\n",
       "       \"{'Brand': 'Toyota', 'Model': 'Roomy', 'Trim / Edition': 'custom GS safety', 'Year of Manufacture': '2018', 'Condition': 'Used', 'Transmission': 'Automatic', 'Body type': 'Station wagon', 'Fuel type': 'Petrol', 'Engine capacity': '1,000 cc', 'Mileage': '30,000 km'}\",\n",
       "       \"{'Bike Type': 'Motorbikes', 'Condition': 'Used', 'Brand': 'TVS', 'Model': 'Star Sport', 'Trim / Edition': 'star sport', 'Year of Manufacture': '2007', 'Engine capacity': '125 cc', 'Mileage': '88,102 km'}\"],\n",
       "      dtype=object)"
      ]
     },
     "execution_count": 24,
     "metadata": {},
     "output_type": "execute_result"
    }
   ],
   "source": [
    "df2['properties'].unique()   # checked properties column"
   ]
  },
  {
   "cell_type": "code",
   "execution_count": 25,
   "id": "a4bb0e10-a790-46f1-b4df-1e2669a91cdd",
   "metadata": {},
   "outputs": [
    {
     "name": "stderr",
     "output_type": "stream",
     "text": [
      "C:\\Users\\Kuldeep\\AppData\\Local\\Temp\\ipykernel_17624\\3849696138.py:8: FutureWarning: Series.__getitem__ treating keys as positions is deprecated. In a future version, integer keys will always be treated as labels (consistent with DataFrame behavior). To access a value by position, use `ser.iloc[pos]`\n",
      "  dict_converted = ast.literal_eval(df2.iloc[i][-1])\n"
     ]
    }
   ],
   "source": [
    "Condition = []\n",
    "Brand = []\n",
    "Model = []\n",
    "Mileage = []\n",
    "\n",
    "\n",
    "for i in range(df2.shape[0]):\n",
    "    dict_converted = ast.literal_eval(df2.iloc[i][-1])\n",
    "    Condition.append(dict_converted['Condition'])\n",
    "\n",
    "    if 'Brand' not in dict_converted:\n",
    "        Brand.append('NaN')\n",
    "    else:\n",
    "        Brand.append(dict_converted['Brand'])\n",
    "\n",
    "    if 'Model' not in dict_converted:\n",
    "        Model.append('NaN')\n",
    "    else:\n",
    "        Model.append(dict_converted['Model'])\n",
    "\n",
    "    if 'Mileage' not in dict_converted:\n",
    "        Mileage.append(0)\n",
    "    else:\n",
    "        Mileage.append(dict_converted['Mileage'])\n",
    "\n",
    "# in this we collected all relavent data present in the \"properties\" column"
   ]
  },
  {
   "cell_type": "code",
   "execution_count": 26,
   "id": "d52c1bd3-8b8a-4e54-bf24-649b778c998e",
   "metadata": {},
   "outputs": [],
   "source": [
    "df2['Condition']=Condition\n",
    "df2['Brand']=Brand\n",
    "df2['Mileage']=Mileage\n",
    "df2['Model']=Model\n",
    "\n",
    "#created new columns with all those value "
   ]
  },
  {
   "cell_type": "code",
   "execution_count": 27,
   "id": "d82fbb04-11a0-4d53-be2f-2bb097b92cbc",
   "metadata": {},
   "outputs": [
    {
     "data": {
      "text/html": [
       "<div>\n",
       "<style scoped>\n",
       "    .dataframe tbody tr th:only-of-type {\n",
       "        vertical-align: middle;\n",
       "    }\n",
       "\n",
       "    .dataframe tbody tr th {\n",
       "        vertical-align: top;\n",
       "    }\n",
       "\n",
       "    .dataframe thead th {\n",
       "        text-align: right;\n",
       "    }\n",
       "</style>\n",
       "<table border=\"1\" class=\"dataframe\">\n",
       "  <thead>\n",
       "    <tr style=\"text-align: right;\">\n",
       "      <th></th>\n",
       "      <th>price</th>\n",
       "      <th>category</th>\n",
       "      <th>is_delivery_free</th>\n",
       "      <th>is_doorstep_delivery</th>\n",
       "      <th>is_dsd_applicable</th>\n",
       "      <th>is_member</th>\n",
       "      <th>is_authorized_dealer</th>\n",
       "      <th>is_featured_member</th>\n",
       "      <th>is_verified</th>\n",
       "      <th>membership_level</th>\n",
       "      <th>properties</th>\n",
       "      <th>Condition</th>\n",
       "      <th>Brand</th>\n",
       "      <th>Mileage</th>\n",
       "      <th>Model</th>\n",
       "    </tr>\n",
       "  </thead>\n",
       "  <tbody>\n",
       "    <tr>\n",
       "      <th>31</th>\n",
       "      <td>22000000.0</td>\n",
       "      <td>Cars</td>\n",
       "      <td>False</td>\n",
       "      <td>False</td>\n",
       "      <td>False</td>\n",
       "      <td>True</td>\n",
       "      <td>False</td>\n",
       "      <td>False</td>\n",
       "      <td>True</td>\n",
       "      <td>plus</td>\n",
       "      <td>{'Brand': 'Ssang Yong', 'Model': 'Rexton', 'Tr...</td>\n",
       "      <td>New</td>\n",
       "      <td>Ssang Yong</td>\n",
       "      <td>0 km</td>\n",
       "      <td>Rexton</td>\n",
       "    </tr>\n",
       "    <tr>\n",
       "      <th>1349</th>\n",
       "      <td>14500000.0</td>\n",
       "      <td>Cars</td>\n",
       "      <td>False</td>\n",
       "      <td>False</td>\n",
       "      <td>False</td>\n",
       "      <td>True</td>\n",
       "      <td>False</td>\n",
       "      <td>False</td>\n",
       "      <td>True</td>\n",
       "      <td>premium</td>\n",
       "      <td>{'Brand': 'Toyota', 'Model': 'CHR', 'Year of M...</td>\n",
       "      <td>Reconditioned</td>\n",
       "      <td>Toyota</td>\n",
       "      <td>9,000 km</td>\n",
       "      <td>CHR</td>\n",
       "    </tr>\n",
       "    <tr>\n",
       "      <th>1701</th>\n",
       "      <td>10500000.0</td>\n",
       "      <td>Cars</td>\n",
       "      <td>False</td>\n",
       "      <td>False</td>\n",
       "      <td>False</td>\n",
       "      <td>True</td>\n",
       "      <td>False</td>\n",
       "      <td>False</td>\n",
       "      <td>True</td>\n",
       "      <td>premium</td>\n",
       "      <td>{'Brand': 'Toyota', 'Model': 'Axio', 'Trim / E...</td>\n",
       "      <td>Reconditioned</td>\n",
       "      <td>Toyota</td>\n",
       "      <td>24,000 km</td>\n",
       "      <td>Axio</td>\n",
       "    </tr>\n",
       "    <tr>\n",
       "      <th>1702</th>\n",
       "      <td>6500000.0</td>\n",
       "      <td>Cars</td>\n",
       "      <td>False</td>\n",
       "      <td>False</td>\n",
       "      <td>False</td>\n",
       "      <td>True</td>\n",
       "      <td>False</td>\n",
       "      <td>False</td>\n",
       "      <td>True</td>\n",
       "      <td>plus</td>\n",
       "      <td>{'Brand': 'Daihatsu', 'Model': 'Atrai Wagon', ...</td>\n",
       "      <td>Reconditioned</td>\n",
       "      <td>Daihatsu</td>\n",
       "      <td>55,000 km</td>\n",
       "      <td>Atrai Wagon</td>\n",
       "    </tr>\n",
       "    <tr>\n",
       "      <th>1917</th>\n",
       "      <td>11500000.0</td>\n",
       "      <td>Cars</td>\n",
       "      <td>False</td>\n",
       "      <td>False</td>\n",
       "      <td>False</td>\n",
       "      <td>True</td>\n",
       "      <td>False</td>\n",
       "      <td>False</td>\n",
       "      <td>True</td>\n",
       "      <td>plus</td>\n",
       "      <td>{'Brand': 'Mercedes Benz', 'Model': 'C180', 'Y...</td>\n",
       "      <td>Used</td>\n",
       "      <td>Mercedes Benz</td>\n",
       "      <td>137,000 km</td>\n",
       "      <td>C180</td>\n",
       "    </tr>\n",
       "    <tr>\n",
       "      <th>...</th>\n",
       "      <td>...</td>\n",
       "      <td>...</td>\n",
       "      <td>...</td>\n",
       "      <td>...</td>\n",
       "      <td>...</td>\n",
       "      <td>...</td>\n",
       "      <td>...</td>\n",
       "      <td>...</td>\n",
       "      <td>...</td>\n",
       "      <td>...</td>\n",
       "      <td>...</td>\n",
       "      <td>...</td>\n",
       "      <td>...</td>\n",
       "      <td>...</td>\n",
       "      <td>...</td>\n",
       "    </tr>\n",
       "    <tr>\n",
       "      <th>258881</th>\n",
       "      <td>12985000.0</td>\n",
       "      <td>Cars</td>\n",
       "      <td>False</td>\n",
       "      <td>False</td>\n",
       "      <td>False</td>\n",
       "      <td>False</td>\n",
       "      <td>False</td>\n",
       "      <td>False</td>\n",
       "      <td>False</td>\n",
       "      <td>free</td>\n",
       "      <td>{'Brand': 'Toyota', 'Model': 'CHR', 'Trim / Ed...</td>\n",
       "      <td>Used</td>\n",
       "      <td>Toyota</td>\n",
       "      <td>43,000 km</td>\n",
       "      <td>CHR</td>\n",
       "    </tr>\n",
       "    <tr>\n",
       "      <th>258883</th>\n",
       "      <td>1030000.0</td>\n",
       "      <td>Cars</td>\n",
       "      <td>False</td>\n",
       "      <td>False</td>\n",
       "      <td>False</td>\n",
       "      <td>False</td>\n",
       "      <td>False</td>\n",
       "      <td>False</td>\n",
       "      <td>False</td>\n",
       "      <td>free</td>\n",
       "      <td>{'Brand': 'Nissan', 'Model': 'March', 'Trim / ...</td>\n",
       "      <td>Used</td>\n",
       "      <td>Nissan</td>\n",
       "      <td>140,000 km</td>\n",
       "      <td>March</td>\n",
       "    </tr>\n",
       "    <tr>\n",
       "      <th>258884</th>\n",
       "      <td>3550000.0</td>\n",
       "      <td>Cars</td>\n",
       "      <td>False</td>\n",
       "      <td>False</td>\n",
       "      <td>False</td>\n",
       "      <td>False</td>\n",
       "      <td>False</td>\n",
       "      <td>False</td>\n",
       "      <td>False</td>\n",
       "      <td>free</td>\n",
       "      <td>{'Brand': 'Toyota', 'Model': 'Allion', 'Trim /...</td>\n",
       "      <td>Used</td>\n",
       "      <td>Toyota</td>\n",
       "      <td>219,000 km</td>\n",
       "      <td>Allion</td>\n",
       "    </tr>\n",
       "    <tr>\n",
       "      <th>258886</th>\n",
       "      <td>7250000.0</td>\n",
       "      <td>Cars</td>\n",
       "      <td>False</td>\n",
       "      <td>False</td>\n",
       "      <td>False</td>\n",
       "      <td>True</td>\n",
       "      <td>False</td>\n",
       "      <td>False</td>\n",
       "      <td>False</td>\n",
       "      <td>premium</td>\n",
       "      <td>{'Brand': 'Toyota', 'Model': 'Roomy', 'Trim / ...</td>\n",
       "      <td>Used</td>\n",
       "      <td>Toyota</td>\n",
       "      <td>30,000 km</td>\n",
       "      <td>Roomy</td>\n",
       "    </tr>\n",
       "    <tr>\n",
       "      <th>258887</th>\n",
       "      <td>135000.0</td>\n",
       "      <td>Motorbikes</td>\n",
       "      <td>False</td>\n",
       "      <td>False</td>\n",
       "      <td>False</td>\n",
       "      <td>False</td>\n",
       "      <td>False</td>\n",
       "      <td>False</td>\n",
       "      <td>False</td>\n",
       "      <td>free</td>\n",
       "      <td>{'Bike Type': 'Motorbikes', 'Condition': 'Used...</td>\n",
       "      <td>Used</td>\n",
       "      <td>TVS</td>\n",
       "      <td>88,102 km</td>\n",
       "      <td>Star Sport</td>\n",
       "    </tr>\n",
       "  </tbody>\n",
       "</table>\n",
       "<p>162833 rows × 15 columns</p>\n",
       "</div>"
      ],
      "text/plain": [
       "             price    category  is_delivery_free  is_doorstep_delivery  \\\n",
       "31      22000000.0        Cars             False                 False   \n",
       "1349    14500000.0        Cars             False                 False   \n",
       "1701    10500000.0        Cars             False                 False   \n",
       "1702     6500000.0        Cars             False                 False   \n",
       "1917    11500000.0        Cars             False                 False   \n",
       "...            ...         ...               ...                   ...   \n",
       "258881  12985000.0        Cars             False                 False   \n",
       "258883   1030000.0        Cars             False                 False   \n",
       "258884   3550000.0        Cars             False                 False   \n",
       "258886   7250000.0        Cars             False                 False   \n",
       "258887    135000.0  Motorbikes             False                 False   \n",
       "\n",
       "        is_dsd_applicable is_member is_authorized_dealer is_featured_member  \\\n",
       "31                  False      True                False              False   \n",
       "1349                False      True                False              False   \n",
       "1701                False      True                False              False   \n",
       "1702                False      True                False              False   \n",
       "1917                False      True                False              False   \n",
       "...                   ...       ...                  ...                ...   \n",
       "258881              False     False                False              False   \n",
       "258883              False     False                False              False   \n",
       "258884              False     False                False              False   \n",
       "258886              False      True                False              False   \n",
       "258887              False     False                False              False   \n",
       "\n",
       "        is_verified membership_level  \\\n",
       "31             True             plus   \n",
       "1349           True          premium   \n",
       "1701           True          premium   \n",
       "1702           True             plus   \n",
       "1917           True             plus   \n",
       "...             ...              ...   \n",
       "258881        False             free   \n",
       "258883        False             free   \n",
       "258884        False             free   \n",
       "258886        False          premium   \n",
       "258887        False             free   \n",
       "\n",
       "                                               properties      Condition  \\\n",
       "31      {'Brand': 'Ssang Yong', 'Model': 'Rexton', 'Tr...            New   \n",
       "1349    {'Brand': 'Toyota', 'Model': 'CHR', 'Year of M...  Reconditioned   \n",
       "1701    {'Brand': 'Toyota', 'Model': 'Axio', 'Trim / E...  Reconditioned   \n",
       "1702    {'Brand': 'Daihatsu', 'Model': 'Atrai Wagon', ...  Reconditioned   \n",
       "1917    {'Brand': 'Mercedes Benz', 'Model': 'C180', 'Y...           Used   \n",
       "...                                                   ...            ...   \n",
       "258881  {'Brand': 'Toyota', 'Model': 'CHR', 'Trim / Ed...           Used   \n",
       "258883  {'Brand': 'Nissan', 'Model': 'March', 'Trim / ...           Used   \n",
       "258884  {'Brand': 'Toyota', 'Model': 'Allion', 'Trim /...           Used   \n",
       "258886  {'Brand': 'Toyota', 'Model': 'Roomy', 'Trim / ...           Used   \n",
       "258887  {'Bike Type': 'Motorbikes', 'Condition': 'Used...           Used   \n",
       "\n",
       "                Brand     Mileage        Model  \n",
       "31         Ssang Yong        0 km       Rexton  \n",
       "1349           Toyota    9,000 km          CHR  \n",
       "1701           Toyota   24,000 km         Axio  \n",
       "1702         Daihatsu   55,000 km  Atrai Wagon  \n",
       "1917    Mercedes Benz  137,000 km         C180  \n",
       "...               ...         ...          ...  \n",
       "258881         Toyota   43,000 km          CHR  \n",
       "258883         Nissan  140,000 km        March  \n",
       "258884         Toyota  219,000 km       Allion  \n",
       "258886         Toyota   30,000 km        Roomy  \n",
       "258887            TVS   88,102 km   Star Sport  \n",
       "\n",
       "[162833 rows x 15 columns]"
      ]
     },
     "execution_count": 27,
     "metadata": {},
     "output_type": "execute_result"
    }
   ],
   "source": [
    "df2"
   ]
  },
  {
   "cell_type": "code",
   "execution_count": 28,
   "id": "8803f18c-ab78-43a9-a1e9-6ceed72c5a29",
   "metadata": {},
   "outputs": [],
   "source": [
    "df2=df2.drop(['properties'],axis=1)   # droped properties column because we collected data from proeprties"
   ]
  },
  {
   "cell_type": "code",
   "execution_count": 29,
   "id": "ed514843-6415-4530-b943-5268b66a1a6e",
   "metadata": {},
   "outputs": [
    {
     "data": {
      "text/html": [
       "<div>\n",
       "<style scoped>\n",
       "    .dataframe tbody tr th:only-of-type {\n",
       "        vertical-align: middle;\n",
       "    }\n",
       "\n",
       "    .dataframe tbody tr th {\n",
       "        vertical-align: top;\n",
       "    }\n",
       "\n",
       "    .dataframe thead th {\n",
       "        text-align: right;\n",
       "    }\n",
       "</style>\n",
       "<table border=\"1\" class=\"dataframe\">\n",
       "  <thead>\n",
       "    <tr style=\"text-align: right;\">\n",
       "      <th></th>\n",
       "      <th>price</th>\n",
       "      <th>category</th>\n",
       "      <th>is_delivery_free</th>\n",
       "      <th>is_doorstep_delivery</th>\n",
       "      <th>is_dsd_applicable</th>\n",
       "      <th>is_member</th>\n",
       "      <th>is_authorized_dealer</th>\n",
       "      <th>is_featured_member</th>\n",
       "      <th>is_verified</th>\n",
       "      <th>membership_level</th>\n",
       "      <th>Condition</th>\n",
       "      <th>Brand</th>\n",
       "      <th>Mileage</th>\n",
       "      <th>Model</th>\n",
       "    </tr>\n",
       "  </thead>\n",
       "  <tbody>\n",
       "    <tr>\n",
       "      <th>31</th>\n",
       "      <td>22000000.0</td>\n",
       "      <td>Cars</td>\n",
       "      <td>False</td>\n",
       "      <td>False</td>\n",
       "      <td>False</td>\n",
       "      <td>True</td>\n",
       "      <td>False</td>\n",
       "      <td>False</td>\n",
       "      <td>True</td>\n",
       "      <td>plus</td>\n",
       "      <td>New</td>\n",
       "      <td>Ssang Yong</td>\n",
       "      <td>0 km</td>\n",
       "      <td>Rexton</td>\n",
       "    </tr>\n",
       "    <tr>\n",
       "      <th>1349</th>\n",
       "      <td>14500000.0</td>\n",
       "      <td>Cars</td>\n",
       "      <td>False</td>\n",
       "      <td>False</td>\n",
       "      <td>False</td>\n",
       "      <td>True</td>\n",
       "      <td>False</td>\n",
       "      <td>False</td>\n",
       "      <td>True</td>\n",
       "      <td>premium</td>\n",
       "      <td>Reconditioned</td>\n",
       "      <td>Toyota</td>\n",
       "      <td>9,000 km</td>\n",
       "      <td>CHR</td>\n",
       "    </tr>\n",
       "    <tr>\n",
       "      <th>1701</th>\n",
       "      <td>10500000.0</td>\n",
       "      <td>Cars</td>\n",
       "      <td>False</td>\n",
       "      <td>False</td>\n",
       "      <td>False</td>\n",
       "      <td>True</td>\n",
       "      <td>False</td>\n",
       "      <td>False</td>\n",
       "      <td>True</td>\n",
       "      <td>premium</td>\n",
       "      <td>Reconditioned</td>\n",
       "      <td>Toyota</td>\n",
       "      <td>24,000 km</td>\n",
       "      <td>Axio</td>\n",
       "    </tr>\n",
       "    <tr>\n",
       "      <th>1702</th>\n",
       "      <td>6500000.0</td>\n",
       "      <td>Cars</td>\n",
       "      <td>False</td>\n",
       "      <td>False</td>\n",
       "      <td>False</td>\n",
       "      <td>True</td>\n",
       "      <td>False</td>\n",
       "      <td>False</td>\n",
       "      <td>True</td>\n",
       "      <td>plus</td>\n",
       "      <td>Reconditioned</td>\n",
       "      <td>Daihatsu</td>\n",
       "      <td>55,000 km</td>\n",
       "      <td>Atrai Wagon</td>\n",
       "    </tr>\n",
       "    <tr>\n",
       "      <th>1917</th>\n",
       "      <td>11500000.0</td>\n",
       "      <td>Cars</td>\n",
       "      <td>False</td>\n",
       "      <td>False</td>\n",
       "      <td>False</td>\n",
       "      <td>True</td>\n",
       "      <td>False</td>\n",
       "      <td>False</td>\n",
       "      <td>True</td>\n",
       "      <td>plus</td>\n",
       "      <td>Used</td>\n",
       "      <td>Mercedes Benz</td>\n",
       "      <td>137,000 km</td>\n",
       "      <td>C180</td>\n",
       "    </tr>\n",
       "    <tr>\n",
       "      <th>...</th>\n",
       "      <td>...</td>\n",
       "      <td>...</td>\n",
       "      <td>...</td>\n",
       "      <td>...</td>\n",
       "      <td>...</td>\n",
       "      <td>...</td>\n",
       "      <td>...</td>\n",
       "      <td>...</td>\n",
       "      <td>...</td>\n",
       "      <td>...</td>\n",
       "      <td>...</td>\n",
       "      <td>...</td>\n",
       "      <td>...</td>\n",
       "      <td>...</td>\n",
       "    </tr>\n",
       "    <tr>\n",
       "      <th>258881</th>\n",
       "      <td>12985000.0</td>\n",
       "      <td>Cars</td>\n",
       "      <td>False</td>\n",
       "      <td>False</td>\n",
       "      <td>False</td>\n",
       "      <td>False</td>\n",
       "      <td>False</td>\n",
       "      <td>False</td>\n",
       "      <td>False</td>\n",
       "      <td>free</td>\n",
       "      <td>Used</td>\n",
       "      <td>Toyota</td>\n",
       "      <td>43,000 km</td>\n",
       "      <td>CHR</td>\n",
       "    </tr>\n",
       "    <tr>\n",
       "      <th>258883</th>\n",
       "      <td>1030000.0</td>\n",
       "      <td>Cars</td>\n",
       "      <td>False</td>\n",
       "      <td>False</td>\n",
       "      <td>False</td>\n",
       "      <td>False</td>\n",
       "      <td>False</td>\n",
       "      <td>False</td>\n",
       "      <td>False</td>\n",
       "      <td>free</td>\n",
       "      <td>Used</td>\n",
       "      <td>Nissan</td>\n",
       "      <td>140,000 km</td>\n",
       "      <td>March</td>\n",
       "    </tr>\n",
       "    <tr>\n",
       "      <th>258884</th>\n",
       "      <td>3550000.0</td>\n",
       "      <td>Cars</td>\n",
       "      <td>False</td>\n",
       "      <td>False</td>\n",
       "      <td>False</td>\n",
       "      <td>False</td>\n",
       "      <td>False</td>\n",
       "      <td>False</td>\n",
       "      <td>False</td>\n",
       "      <td>free</td>\n",
       "      <td>Used</td>\n",
       "      <td>Toyota</td>\n",
       "      <td>219,000 km</td>\n",
       "      <td>Allion</td>\n",
       "    </tr>\n",
       "    <tr>\n",
       "      <th>258886</th>\n",
       "      <td>7250000.0</td>\n",
       "      <td>Cars</td>\n",
       "      <td>False</td>\n",
       "      <td>False</td>\n",
       "      <td>False</td>\n",
       "      <td>True</td>\n",
       "      <td>False</td>\n",
       "      <td>False</td>\n",
       "      <td>False</td>\n",
       "      <td>premium</td>\n",
       "      <td>Used</td>\n",
       "      <td>Toyota</td>\n",
       "      <td>30,000 km</td>\n",
       "      <td>Roomy</td>\n",
       "    </tr>\n",
       "    <tr>\n",
       "      <th>258887</th>\n",
       "      <td>135000.0</td>\n",
       "      <td>Motorbikes</td>\n",
       "      <td>False</td>\n",
       "      <td>False</td>\n",
       "      <td>False</td>\n",
       "      <td>False</td>\n",
       "      <td>False</td>\n",
       "      <td>False</td>\n",
       "      <td>False</td>\n",
       "      <td>free</td>\n",
       "      <td>Used</td>\n",
       "      <td>TVS</td>\n",
       "      <td>88,102 km</td>\n",
       "      <td>Star Sport</td>\n",
       "    </tr>\n",
       "  </tbody>\n",
       "</table>\n",
       "<p>162833 rows × 14 columns</p>\n",
       "</div>"
      ],
      "text/plain": [
       "             price    category  is_delivery_free  is_doorstep_delivery  \\\n",
       "31      22000000.0        Cars             False                 False   \n",
       "1349    14500000.0        Cars             False                 False   \n",
       "1701    10500000.0        Cars             False                 False   \n",
       "1702     6500000.0        Cars             False                 False   \n",
       "1917    11500000.0        Cars             False                 False   \n",
       "...            ...         ...               ...                   ...   \n",
       "258881  12985000.0        Cars             False                 False   \n",
       "258883   1030000.0        Cars             False                 False   \n",
       "258884   3550000.0        Cars             False                 False   \n",
       "258886   7250000.0        Cars             False                 False   \n",
       "258887    135000.0  Motorbikes             False                 False   \n",
       "\n",
       "        is_dsd_applicable is_member is_authorized_dealer is_featured_member  \\\n",
       "31                  False      True                False              False   \n",
       "1349                False      True                False              False   \n",
       "1701                False      True                False              False   \n",
       "1702                False      True                False              False   \n",
       "1917                False      True                False              False   \n",
       "...                   ...       ...                  ...                ...   \n",
       "258881              False     False                False              False   \n",
       "258883              False     False                False              False   \n",
       "258884              False     False                False              False   \n",
       "258886              False      True                False              False   \n",
       "258887              False     False                False              False   \n",
       "\n",
       "        is_verified membership_level      Condition          Brand  \\\n",
       "31             True             plus            New     Ssang Yong   \n",
       "1349           True          premium  Reconditioned         Toyota   \n",
       "1701           True          premium  Reconditioned         Toyota   \n",
       "1702           True             plus  Reconditioned       Daihatsu   \n",
       "1917           True             plus           Used  Mercedes Benz   \n",
       "...             ...              ...            ...            ...   \n",
       "258881        False             free           Used         Toyota   \n",
       "258883        False             free           Used         Nissan   \n",
       "258884        False             free           Used         Toyota   \n",
       "258886        False          premium           Used         Toyota   \n",
       "258887        False             free           Used            TVS   \n",
       "\n",
       "           Mileage        Model  \n",
       "31            0 km       Rexton  \n",
       "1349      9,000 km          CHR  \n",
       "1701     24,000 km         Axio  \n",
       "1702     55,000 km  Atrai Wagon  \n",
       "1917    137,000 km         C180  \n",
       "...            ...          ...  \n",
       "258881   43,000 km          CHR  \n",
       "258883  140,000 km        March  \n",
       "258884  219,000 km       Allion  \n",
       "258886   30,000 km        Roomy  \n",
       "258887   88,102 km   Star Sport  \n",
       "\n",
       "[162833 rows x 14 columns]"
      ]
     },
     "execution_count": 29,
     "metadata": {},
     "output_type": "execute_result"
    }
   ],
   "source": [
    "df2"
   ]
  },
  {
   "cell_type": "code",
   "execution_count": 30,
   "id": "9cce75e8-4bf4-4e20-aa48-5d12f485f98f",
   "metadata": {},
   "outputs": [
    {
     "data": {
      "image/png": "[encoded data removed]",
      "text/plain": [
       "<Figure size 1200x600 with 1 Axes>"
      ]
     },
     "metadata": {},
     "output_type": "display_data"
    }
   ],
   "source": [
    "plt.figure(figsize=(12,6))\n",
    "sns.countplot(x='category',data=df2)\n",
    "plt.title(\"categorywise distribution\")\n",
    "plt.xlabel(\"Category of vehical\")\n",
    "plt.ylabel(\"count\")\n",
    "plt.xticks(rotation=45) \n",
    "plt.show()"
   ]
  },
  {
   "cell_type": "code",
   "execution_count": 31,
   "id": "8dbb0441-b44d-4df4-ba24-7f1b51d9c5f5",
   "metadata": {},
   "outputs": [],
   "source": [
    "# from above plot we got idea about data distribution according to its category and we can observe we have maximum mumber od vehicals are motorbikes\n",
    " "
   ]
  },
  {
   "cell_type": "code",
   "execution_count": 32,
   "id": "a274badb-3abd-4e3a-b9b7-cc9903caefc2",
   "metadata": {},
   "outputs": [
    {
     "data": {
      "image/png": "[encoded data removed]",
      "text/plain": [
       "<Figure size 1200x600 with 1 Axes>"
      ]
     },
     "metadata": {},
     "output_type": "display_data"
    }
   ],
   "source": [
    "plt.figure(figsize=(12,6))\n",
    "sns.countplot(x='Condition',data=df2)\n",
    "plt.title(\"Conditionwise distribution\")\n",
    "plt.xlabel(\"Condition of vehical\")\n",
    "plt.ylabel(\"count\")\n",
    "plt.show()"
   ]
  },
  {
   "cell_type": "code",
   "execution_count": 33,
   "id": "ebd76c04-482a-4fc7-8155-ac0f463749ff",
   "metadata": {},
   "outputs": [],
   "source": [
    "# from above graph we can observe there maximum vehicals are used vehicals "
   ]
  },
  {
   "cell_type": "code",
   "execution_count": 34,
   "id": "e9d6f333-a69b-4174-8178-9de7619a63fb",
   "metadata": {},
   "outputs": [
    {
     "data": {
      "image/png": "[encoded data removed]",
      "text/plain": [
       "<Figure size 4000x2000 with 1 Axes>"
      ]
     },
     "metadata": {},
     "output_type": "display_data"
    }
   ],
   "source": [
    "plt.figure(figsize=(40,20))\n",
    "sns.countplot(x='Brand',data=df2)\n",
    "plt.title(\"BrandWise distribution\")\n",
    "plt.xlabel(\"Brand of vehical\")\n",
    "plt.ylabel(\"count\")\n",
    "\n",
    "plt.xticks(rotation=90) \n",
    "plt.show()"
   ]
  },
  {
   "cell_type": "code",
   "execution_count": 35,
   "id": "2b8434c1-bcc3-4cd4-83b8-13acefcc0cab",
   "metadata": {},
   "outputs": [],
   "source": [
    "df2['Mileage'] = df2['Mileage'].str.replace(' km', '').str.replace(',', '')     \n",
    "# in mileage we have values with km so we change km to ''"
   ]
  },
  {
   "cell_type": "code",
   "execution_count": 36,
   "id": "6febb448-61c8-4a57-a9ba-e81518e0e1db",
   "metadata": {},
   "outputs": [],
   "source": [
    "df2['Mileage']=df2['Mileage'].astype(float)   # converted mileage column to float"
   ]
  },
  {
   "cell_type": "code",
   "execution_count": 37,
   "id": "9a59c18e-a654-44cc-aaa5-c4c5aabc8c1d",
   "metadata": {},
   "outputs": [],
   "source": [
    "# dropped unneccesary columns\n",
    "df3=df2.drop(['is_delivery_free','is_doorstep_delivery','is_dsd_applicable','is_member','is_authorized_dealer','is_featured_member','is_verified','membership_level'],axis=1)"
   ]
  },
  {
   "cell_type": "code",
   "execution_count": 38,
   "id": "12e496d8-c754-4d17-a402-a2dfd5294ebf",
   "metadata": {},
   "outputs": [],
   "source": [
    "s=df3['Mileage'].median()  #we get median of mileage "
   ]
  },
  {
   "cell_type": "code",
   "execution_count": 39,
   "id": "145953dd-dbe7-4acd-82dc-7d9447816736",
   "metadata": {},
   "outputs": [
    {
     "data": {
      "text/html": [
       "<div>\n",
       "<style scoped>\n",
       "    .dataframe tbody tr th:only-of-type {\n",
       "        vertical-align: middle;\n",
       "    }\n",
       "\n",
       "    .dataframe tbody tr th {\n",
       "        vertical-align: top;\n",
       "    }\n",
       "\n",
       "    .dataframe thead th {\n",
       "        text-align: right;\n",
       "    }\n",
       "</style>\n",
       "<table border=\"1\" class=\"dataframe\">\n",
       "  <thead>\n",
       "    <tr style=\"text-align: right;\">\n",
       "      <th></th>\n",
       "      <th>price</th>\n",
       "      <th>category</th>\n",
       "      <th>Condition</th>\n",
       "      <th>Brand</th>\n",
       "      <th>Mileage</th>\n",
       "      <th>Model</th>\n",
       "    </tr>\n",
       "  </thead>\n",
       "  <tbody>\n",
       "    <tr>\n",
       "      <th>31</th>\n",
       "      <td>22000000.0</td>\n",
       "      <td>Cars</td>\n",
       "      <td>New</td>\n",
       "      <td>Ssang Yong</td>\n",
       "      <td>0.0</td>\n",
       "      <td>Rexton</td>\n",
       "    </tr>\n",
       "    <tr>\n",
       "      <th>1349</th>\n",
       "      <td>14500000.0</td>\n",
       "      <td>Cars</td>\n",
       "      <td>Reconditioned</td>\n",
       "      <td>Toyota</td>\n",
       "      <td>9000.0</td>\n",
       "      <td>CHR</td>\n",
       "    </tr>\n",
       "    <tr>\n",
       "      <th>1701</th>\n",
       "      <td>10500000.0</td>\n",
       "      <td>Cars</td>\n",
       "      <td>Reconditioned</td>\n",
       "      <td>Toyota</td>\n",
       "      <td>24000.0</td>\n",
       "      <td>Axio</td>\n",
       "    </tr>\n",
       "    <tr>\n",
       "      <th>1702</th>\n",
       "      <td>6500000.0</td>\n",
       "      <td>Cars</td>\n",
       "      <td>Reconditioned</td>\n",
       "      <td>Daihatsu</td>\n",
       "      <td>55000.0</td>\n",
       "      <td>Atrai Wagon</td>\n",
       "    </tr>\n",
       "    <tr>\n",
       "      <th>1917</th>\n",
       "      <td>11500000.0</td>\n",
       "      <td>Cars</td>\n",
       "      <td>Used</td>\n",
       "      <td>Mercedes Benz</td>\n",
       "      <td>137000.0</td>\n",
       "      <td>C180</td>\n",
       "    </tr>\n",
       "  </tbody>\n",
       "</table>\n",
       "</div>"
      ],
      "text/plain": [
       "           price category      Condition          Brand   Mileage        Model\n",
       "31    22000000.0     Cars            New     Ssang Yong       0.0       Rexton\n",
       "1349  14500000.0     Cars  Reconditioned         Toyota    9000.0          CHR\n",
       "1701  10500000.0     Cars  Reconditioned         Toyota   24000.0         Axio\n",
       "1702   6500000.0     Cars  Reconditioned       Daihatsu   55000.0  Atrai Wagon\n",
       "1917  11500000.0     Cars           Used  Mercedes Benz  137000.0         C180"
      ]
     },
     "execution_count": 39,
     "metadata": {},
     "output_type": "execute_result"
    }
   ],
   "source": [
    "df3.head()"
   ]
  },
  {
   "cell_type": "code",
   "execution_count": 40,
   "id": "fe2ae698-94ee-4837-8334-27ba8bb59132",
   "metadata": {},
   "outputs": [],
   "source": [
    "df3['Mileage']=df3['Mileage'].fillna(s)   # we replace null values with median"
   ]
  },
  {
   "cell_type": "code",
   "execution_count": 41,
   "id": "e2f098b9-293b-4949-8988-7025369fcb87",
   "metadata": {},
   "outputs": [
    {
     "data": {
      "text/plain": [
       "<seaborn.axisgrid.PairGrid at 0x1c44eac4250>"
      ]
     },
     "execution_count": 41,
     "metadata": {},
     "output_type": "execute_result"
    },
    {
     "data": {
      "image/png": "[encoded data removed]",
      "text/plain": [
       "<Figure size 500x500 with 6 Axes>"
      ]
     },
     "metadata": {},
     "output_type": "display_data"
    }
   ],
   "source": [
    "sns.pairplot(df3)"
   ]
  },
  {
   "cell_type": "code",
   "execution_count": 42,
   "id": "305c6192-d6a0-47ec-bcef-1af5b2d96268",
   "metadata": {},
   "outputs": [],
   "source": [
    "#top-right\n",
    "#The histogram (or kernel density estimate) for the price variable indicates that most vehicles have lower prices, with a few extreme high values (outliers)."
   ]
  },
  {
   "cell_type": "code",
   "execution_count": 43,
   "id": "264d2ea5-ee9e-441d-99e0-28040019c23a",
   "metadata": {},
   "outputs": [],
   "source": [
    "#bottom left\n",
    "#The histogram for Mileage shows a similar pattern: most vehicles have lower mileage, with some unusually high values (outliers)."
   ]
  },
  {
   "cell_type": "code",
   "execution_count": 44,
   "id": "df2412ef-6dea-4f23-8bb2-839fcbdc7bb2",
   "metadata": {},
   "outputs": [],
   "source": [
    "#Top-Left and Bottom-Right (Price vs. Mileage)\n",
    "#The scatterplots show that Most vehicles cluster at lower values for both price and Mileage.\n",
    "#There are extreme outliers with very high prices and/or very high mileage."
   ]
  },
  {
   "cell_type": "code",
   "execution_count": 45,
   "id": "a2261fd1-68ad-4d27-a66e-b3a15da633f4",
   "metadata": {},
   "outputs": [
    {
     "data": {
      "text/plain": [
       "price        12\n",
       "category      0\n",
       "Condition     0\n",
       "Brand         0\n",
       "Mileage       0\n",
       "Model         0\n",
       "dtype: int64"
      ]
     },
     "execution_count": 45,
     "metadata": {},
     "output_type": "execute_result"
    }
   ],
   "source": [
    "df3.isnull().sum()  #then we check all null values again"
   ]
  },
  {
   "cell_type": "code",
   "execution_count": 46,
   "id": "8fb5016e-0282-4766-8040-3e146daae8ef",
   "metadata": {},
   "outputs": [],
   "source": [
    "df3=df3.dropna() # we droped null values"
   ]
  },
  {
   "cell_type": "code",
   "execution_count": 49,
   "id": "77310d2f-5fc5-43ee-9bd6-a76b7d264c1e",
   "metadata": {},
   "outputs": [
    {
     "data": {
      "text/html": [
       "<div>\n",
       "<style scoped>\n",
       "    .dataframe tbody tr th:only-of-type {\n",
       "        vertical-align: middle;\n",
       "    }\n",
       "\n",
       "    .dataframe tbody tr th {\n",
       "        vertical-align: top;\n",
       "    }\n",
       "\n",
       "    .dataframe thead th {\n",
       "        text-align: right;\n",
       "    }\n",
       "</style>\n",
       "<table border=\"1\" class=\"dataframe\">\n",
       "  <thead>\n",
       "    <tr style=\"text-align: right;\">\n",
       "      <th></th>\n",
       "      <th>price</th>\n",
       "      <th>category</th>\n",
       "      <th>Condition</th>\n",
       "      <th>Brand</th>\n",
       "      <th>Mileage</th>\n",
       "      <th>Model</th>\n",
       "    </tr>\n",
       "  </thead>\n",
       "  <tbody>\n",
       "    <tr>\n",
       "      <th>31</th>\n",
       "      <td>22000000.0</td>\n",
       "      <td>Cars</td>\n",
       "      <td>New</td>\n",
       "      <td>Ssang Yong</td>\n",
       "      <td>0.0</td>\n",
       "      <td>Rexton</td>\n",
       "    </tr>\n",
       "    <tr>\n",
       "      <th>1349</th>\n",
       "      <td>14500000.0</td>\n",
       "      <td>Cars</td>\n",
       "      <td>Reconditioned</td>\n",
       "      <td>Toyota</td>\n",
       "      <td>9000.0</td>\n",
       "      <td>CHR</td>\n",
       "    </tr>\n",
       "    <tr>\n",
       "      <th>1701</th>\n",
       "      <td>10500000.0</td>\n",
       "      <td>Cars</td>\n",
       "      <td>Reconditioned</td>\n",
       "      <td>Toyota</td>\n",
       "      <td>24000.0</td>\n",
       "      <td>Axio</td>\n",
       "    </tr>\n",
       "    <tr>\n",
       "      <th>1702</th>\n",
       "      <td>6500000.0</td>\n",
       "      <td>Cars</td>\n",
       "      <td>Reconditioned</td>\n",
       "      <td>Daihatsu</td>\n",
       "      <td>55000.0</td>\n",
       "      <td>Atrai Wagon</td>\n",
       "    </tr>\n",
       "    <tr>\n",
       "      <th>1917</th>\n",
       "      <td>11500000.0</td>\n",
       "      <td>Cars</td>\n",
       "      <td>Used</td>\n",
       "      <td>Mercedes Benz</td>\n",
       "      <td>137000.0</td>\n",
       "      <td>C180</td>\n",
       "    </tr>\n",
       "    <tr>\n",
       "      <th>...</th>\n",
       "      <td>...</td>\n",
       "      <td>...</td>\n",
       "      <td>...</td>\n",
       "      <td>...</td>\n",
       "      <td>...</td>\n",
       "      <td>...</td>\n",
       "    </tr>\n",
       "    <tr>\n",
       "      <th>258881</th>\n",
       "      <td>12985000.0</td>\n",
       "      <td>Cars</td>\n",
       "      <td>Used</td>\n",
       "      <td>Toyota</td>\n",
       "      <td>43000.0</td>\n",
       "      <td>CHR</td>\n",
       "    </tr>\n",
       "    <tr>\n",
       "      <th>258883</th>\n",
       "      <td>1030000.0</td>\n",
       "      <td>Cars</td>\n",
       "      <td>Used</td>\n",
       "      <td>Nissan</td>\n",
       "      <td>140000.0</td>\n",
       "      <td>March</td>\n",
       "    </tr>\n",
       "    <tr>\n",
       "      <th>258884</th>\n",
       "      <td>3550000.0</td>\n",
       "      <td>Cars</td>\n",
       "      <td>Used</td>\n",
       "      <td>Toyota</td>\n",
       "      <td>219000.0</td>\n",
       "      <td>Allion</td>\n",
       "    </tr>\n",
       "    <tr>\n",
       "      <th>258886</th>\n",
       "      <td>7250000.0</td>\n",
       "      <td>Cars</td>\n",
       "      <td>Used</td>\n",
       "      <td>Toyota</td>\n",
       "      <td>30000.0</td>\n",
       "      <td>Roomy</td>\n",
       "    </tr>\n",
       "    <tr>\n",
       "      <th>258887</th>\n",
       "      <td>135000.0</td>\n",
       "      <td>Motorbikes</td>\n",
       "      <td>Used</td>\n",
       "      <td>TVS</td>\n",
       "      <td>88102.0</td>\n",
       "      <td>Star Sport</td>\n",
       "    </tr>\n",
       "  </tbody>\n",
       "</table>\n",
       "<p>162821 rows × 6 columns</p>\n",
       "</div>"
      ],
      "text/plain": [
       "             price    category      Condition          Brand   Mileage  \\\n",
       "31      22000000.0        Cars            New     Ssang Yong       0.0   \n",
       "1349    14500000.0        Cars  Reconditioned         Toyota    9000.0   \n",
       "1701    10500000.0        Cars  Reconditioned         Toyota   24000.0   \n",
       "1702     6500000.0        Cars  Reconditioned       Daihatsu   55000.0   \n",
       "1917    11500000.0        Cars           Used  Mercedes Benz  137000.0   \n",
       "...            ...         ...            ...            ...       ...   \n",
       "258881  12985000.0        Cars           Used         Toyota   43000.0   \n",
       "258883   1030000.0        Cars           Used         Nissan  140000.0   \n",
       "258884   3550000.0        Cars           Used         Toyota  219000.0   \n",
       "258886   7250000.0        Cars           Used         Toyota   30000.0   \n",
       "258887    135000.0  Motorbikes           Used            TVS   88102.0   \n",
       "\n",
       "              Model  \n",
       "31           Rexton  \n",
       "1349            CHR  \n",
       "1701           Axio  \n",
       "1702    Atrai Wagon  \n",
       "1917           C180  \n",
       "...             ...  \n",
       "258881          CHR  \n",
       "258883        March  \n",
       "258884       Allion  \n",
       "258886        Roomy  \n",
       "258887   Star Sport  \n",
       "\n",
       "[162821 rows x 6 columns]"
      ]
     },
     "execution_count": 49,
     "metadata": {},
     "output_type": "execute_result"
    }
   ],
   "source": [
    "df3"
   ]
  },
  {
   "cell_type": "code",
   "execution_count": 48,
   "id": "61db46c4-ccdf-443b-a6c8-ef17c94d088c",
   "metadata": {},
   "outputs": [
    {
     "data": {
      "text/plain": [
       "Index(['price', 'category', 'Condition', 'Brand', 'Mileage', 'Model'], dtype='object')"
      ]
     },
     "execution_count": 48,
     "metadata": {},
     "output_type": "execute_result"
    }
   ],
   "source": [
    "df3.columns"
   ]
  },
  {
   "cell_type": "code",
   "execution_count": 52,
   "id": "3fd55a9e-5427-4472-a87b-39a7ed8d9b5d",
   "metadata": {},
   "outputs": [],
   "source": [
    "from sklearn.preprocessing import LabelEncoder\n",
    "import pandas as pd\n",
    "\n",
    "# Assuming df3 is already loaded with 162,821 rows\n",
    "\n",
    "# List of columns to encode\n",
    "columns_to_encode = ['category', 'Condition', 'Brand', 'Mileage', 'Model']\n",
    "\n",
    "# Instantiate the LabelEncoder\n",
    "encoder = LabelEncoder()\n",
    "\n",
    "# Apply LabelEncoder to the columns in the list using .loc to avoid SettingWithCopyWarning\n",
    "for column in columns_to_encode:\n",
    "    df3.loc[:, column] = encoder.fit_transform(df3[column])\n",
    "\n",
    "# Output the transformed dataframe (if needed)\n",
    "# print(df3.head())\n"
   ]
  },
  {
   "cell_type": "code",
   "execution_count": 51,
   "id": "fcb68803-1718-44d2-a099-1372c7cd8516",
   "metadata": {},
   "outputs": [
    {
     "data": {
      "text/html": [
       "<div>\n",
       "<style scoped>\n",
       "    .dataframe tbody tr th:only-of-type {\n",
       "        vertical-align: middle;\n",
       "    }\n",
       "\n",
       "    .dataframe tbody tr th {\n",
       "        vertical-align: top;\n",
       "    }\n",
       "\n",
       "    .dataframe thead th {\n",
       "        text-align: right;\n",
       "    }\n",
       "</style>\n",
       "<table border=\"1\" class=\"dataframe\">\n",
       "  <thead>\n",
       "    <tr style=\"text-align: right;\">\n",
       "      <th></th>\n",
       "      <th>price</th>\n",
       "      <th>category</th>\n",
       "      <th>Condition</th>\n",
       "      <th>Brand</th>\n",
       "      <th>Mileage</th>\n",
       "      <th>Model</th>\n",
       "    </tr>\n",
       "  </thead>\n",
       "  <tbody>\n",
       "    <tr>\n",
       "      <th>31</th>\n",
       "      <td>22000000.0</td>\n",
       "      <td>3</td>\n",
       "      <td>0</td>\n",
       "      <td>119</td>\n",
       "      <td>0</td>\n",
       "      <td>678</td>\n",
       "    </tr>\n",
       "    <tr>\n",
       "      <th>1349</th>\n",
       "      <td>14500000.0</td>\n",
       "      <td>3</td>\n",
       "      <td>1</td>\n",
       "      <td>128</td>\n",
       "      <td>972</td>\n",
       "      <td>198</td>\n",
       "    </tr>\n",
       "    <tr>\n",
       "      <th>1701</th>\n",
       "      <td>10500000.0</td>\n",
       "      <td>3</td>\n",
       "      <td>1</td>\n",
       "      <td>128</td>\n",
       "      <td>3504</td>\n",
       "      <td>141</td>\n",
       "    </tr>\n",
       "    <tr>\n",
       "      <th>1702</th>\n",
       "      <td>6500000.0</td>\n",
       "      <td>3</td>\n",
       "      <td>1</td>\n",
       "      <td>26</td>\n",
       "      <td>9493</td>\n",
       "      <td>125</td>\n",
       "    </tr>\n",
       "    <tr>\n",
       "      <th>1917</th>\n",
       "      <td>11500000.0</td>\n",
       "      <td>3</td>\n",
       "      <td>2</td>\n",
       "      <td>82</td>\n",
       "      <td>15028</td>\n",
       "      <td>174</td>\n",
       "    </tr>\n",
       "    <tr>\n",
       "      <th>...</th>\n",
       "      <td>...</td>\n",
       "      <td>...</td>\n",
       "      <td>...</td>\n",
       "      <td>...</td>\n",
       "      <td>...</td>\n",
       "      <td>...</td>\n",
       "    </tr>\n",
       "    <tr>\n",
       "      <th>258881</th>\n",
       "      <td>12985000.0</td>\n",
       "      <td>3</td>\n",
       "      <td>2</td>\n",
       "      <td>128</td>\n",
       "      <td>7344</td>\n",
       "      <td>198</td>\n",
       "    </tr>\n",
       "    <tr>\n",
       "      <th>258883</th>\n",
       "      <td>1030000.0</td>\n",
       "      <td>3</td>\n",
       "      <td>2</td>\n",
       "      <td>92</td>\n",
       "      <td>15123</td>\n",
       "      <td>546</td>\n",
       "    </tr>\n",
       "    <tr>\n",
       "      <th>258884</th>\n",
       "      <td>3550000.0</td>\n",
       "      <td>3</td>\n",
       "      <td>2</td>\n",
       "      <td>128</td>\n",
       "      <td>17008</td>\n",
       "      <td>112</td>\n",
       "    </tr>\n",
       "    <tr>\n",
       "      <th>258886</th>\n",
       "      <td>7250000.0</td>\n",
       "      <td>3</td>\n",
       "      <td>2</td>\n",
       "      <td>128</td>\n",
       "      <td>4873</td>\n",
       "      <td>687</td>\n",
       "    </tr>\n",
       "    <tr>\n",
       "      <th>258887</th>\n",
       "      <td>135000.0</td>\n",
       "      <td>6</td>\n",
       "      <td>2</td>\n",
       "      <td>124</td>\n",
       "      <td>12767</td>\n",
       "      <td>764</td>\n",
       "    </tr>\n",
       "  </tbody>\n",
       "</table>\n",
       "<p>162821 rows × 6 columns</p>\n",
       "</div>"
      ],
      "text/plain": [
       "             price  category  Condition  Brand  Mileage  Model\n",
       "31      22000000.0         3          0    119        0    678\n",
       "1349    14500000.0         3          1    128      972    198\n",
       "1701    10500000.0         3          1    128     3504    141\n",
       "1702     6500000.0         3          1     26     9493    125\n",
       "1917    11500000.0         3          2     82    15028    174\n",
       "...            ...       ...        ...    ...      ...    ...\n",
       "258881  12985000.0         3          2    128     7344    198\n",
       "258883   1030000.0         3          2     92    15123    546\n",
       "258884   3550000.0         3          2    128    17008    112\n",
       "258886   7250000.0         3          2    128     4873    687\n",
       "258887    135000.0         6          2    124    12767    764\n",
       "\n",
       "[162821 rows x 6 columns]"
      ]
     },
     "execution_count": 51,
     "metadata": {},
     "output_type": "execute_result"
    }
   ],
   "source": [
    "df3"
   ]
  },
  {
   "cell_type": "code",
   "execution_count": 54,
   "id": "eb1270a8-8935-4655-b56e-6e719e09eec1",
   "metadata": {},
   "outputs": [],
   "source": [
    "# Use .loc[] to modify the 'price' column explicitly\n",
    "df3.loc[:, 'price'] = scaler.fit_transform(df3[['price']])  # Scaling the target column\n",
    "\n",
    "# Check the updated dataframe (if needed)\n",
    "# print(df3.head())\n"
   ]
  },
  {
   "cell_type": "code",
   "execution_count": 55,
   "id": "bf623f35-3fd0-40e8-a33c-4aa64f544890",
   "metadata": {},
   "outputs": [
    {
     "data": {
      "text/html": [
       "<div>\n",
       "<style scoped>\n",
       "    .dataframe tbody tr th:only-of-type {\n",
       "        vertical-align: middle;\n",
       "    }\n",
       "\n",
       "    .dataframe tbody tr th {\n",
       "        vertical-align: top;\n",
       "    }\n",
       "\n",
       "    .dataframe thead th {\n",
       "        text-align: right;\n",
       "    }\n",
       "</style>\n",
       "<table border=\"1\" class=\"dataframe\">\n",
       "  <thead>\n",
       "    <tr style=\"text-align: right;\">\n",
       "      <th></th>\n",
       "      <th>price</th>\n",
       "      <th>category</th>\n",
       "      <th>Condition</th>\n",
       "      <th>Brand</th>\n",
       "      <th>Mileage</th>\n",
       "      <th>Model</th>\n",
       "    </tr>\n",
       "  </thead>\n",
       "  <tbody>\n",
       "    <tr>\n",
       "      <th>31</th>\n",
       "      <td>2.188633</td>\n",
       "      <td>3</td>\n",
       "      <td>0</td>\n",
       "      <td>119</td>\n",
       "      <td>0</td>\n",
       "      <td>678</td>\n",
       "    </tr>\n",
       "    <tr>\n",
       "      <th>1349</th>\n",
       "      <td>1.323831</td>\n",
       "      <td>3</td>\n",
       "      <td>1</td>\n",
       "      <td>128</td>\n",
       "      <td>972</td>\n",
       "      <td>198</td>\n",
       "    </tr>\n",
       "    <tr>\n",
       "      <th>1701</th>\n",
       "      <td>0.862604</td>\n",
       "      <td>3</td>\n",
       "      <td>1</td>\n",
       "      <td>128</td>\n",
       "      <td>3504</td>\n",
       "      <td>141</td>\n",
       "    </tr>\n",
       "    <tr>\n",
       "      <th>1702</th>\n",
       "      <td>0.401376</td>\n",
       "      <td>3</td>\n",
       "      <td>1</td>\n",
       "      <td>26</td>\n",
       "      <td>9493</td>\n",
       "      <td>125</td>\n",
       "    </tr>\n",
       "    <tr>\n",
       "      <th>1917</th>\n",
       "      <td>0.977911</td>\n",
       "      <td>3</td>\n",
       "      <td>2</td>\n",
       "      <td>82</td>\n",
       "      <td>15028</td>\n",
       "      <td>174</td>\n",
       "    </tr>\n",
       "  </tbody>\n",
       "</table>\n",
       "</div>"
      ],
      "text/plain": [
       "         price  category  Condition  Brand  Mileage  Model\n",
       "31    2.188633         3          0    119        0    678\n",
       "1349  1.323831         3          1    128      972    198\n",
       "1701  0.862604         3          1    128     3504    141\n",
       "1702  0.401376         3          1     26     9493    125\n",
       "1917  0.977911         3          2     82    15028    174"
      ]
     },
     "execution_count": 55,
     "metadata": {},
     "output_type": "execute_result"
    }
   ],
   "source": [
    "df3.head()"
   ]
  },
  {
   "cell_type": "code",
   "execution_count": 56,
   "id": "e31b24b8-95e8-4461-8451-a7f05203efae",
   "metadata": {},
   "outputs": [
    {
     "data": {
      "text/html": [
       "<div>\n",
       "<style scoped>\n",
       "    .dataframe tbody tr th:only-of-type {\n",
       "        vertical-align: middle;\n",
       "    }\n",
       "\n",
       "    .dataframe tbody tr th {\n",
       "        vertical-align: top;\n",
       "    }\n",
       "\n",
       "    .dataframe thead th {\n",
       "        text-align: right;\n",
       "    }\n",
       "</style>\n",
       "<table border=\"1\" class=\"dataframe\">\n",
       "  <thead>\n",
       "    <tr style=\"text-align: right;\">\n",
       "      <th></th>\n",
       "      <th>price</th>\n",
       "      <th>category</th>\n",
       "      <th>Condition</th>\n",
       "      <th>Brand</th>\n",
       "      <th>Mileage</th>\n",
       "      <th>Model</th>\n",
       "    </tr>\n",
       "  </thead>\n",
       "  <tbody>\n",
       "    <tr>\n",
       "      <th>31</th>\n",
       "      <td>2.188633</td>\n",
       "      <td>3</td>\n",
       "      <td>0</td>\n",
       "      <td>119</td>\n",
       "      <td>0</td>\n",
       "      <td>678</td>\n",
       "    </tr>\n",
       "    <tr>\n",
       "      <th>1349</th>\n",
       "      <td>1.323831</td>\n",
       "      <td>3</td>\n",
       "      <td>1</td>\n",
       "      <td>128</td>\n",
       "      <td>972</td>\n",
       "      <td>198</td>\n",
       "    </tr>\n",
       "    <tr>\n",
       "      <th>1701</th>\n",
       "      <td>0.862604</td>\n",
       "      <td>3</td>\n",
       "      <td>1</td>\n",
       "      <td>128</td>\n",
       "      <td>3504</td>\n",
       "      <td>141</td>\n",
       "    </tr>\n",
       "    <tr>\n",
       "      <th>1702</th>\n",
       "      <td>0.401376</td>\n",
       "      <td>3</td>\n",
       "      <td>1</td>\n",
       "      <td>26</td>\n",
       "      <td>9493</td>\n",
       "      <td>125</td>\n",
       "    </tr>\n",
       "    <tr>\n",
       "      <th>1917</th>\n",
       "      <td>0.977911</td>\n",
       "      <td>3</td>\n",
       "      <td>2</td>\n",
       "      <td>82</td>\n",
       "      <td>15028</td>\n",
       "      <td>174</td>\n",
       "    </tr>\n",
       "    <tr>\n",
       "      <th>...</th>\n",
       "      <td>...</td>\n",
       "      <td>...</td>\n",
       "      <td>...</td>\n",
       "      <td>...</td>\n",
       "      <td>...</td>\n",
       "      <td>...</td>\n",
       "    </tr>\n",
       "    <tr>\n",
       "      <th>258881</th>\n",
       "      <td>1.149141</td>\n",
       "      <td>3</td>\n",
       "      <td>2</td>\n",
       "      <td>128</td>\n",
       "      <td>7344</td>\n",
       "      <td>198</td>\n",
       "    </tr>\n",
       "    <tr>\n",
       "      <th>258883</th>\n",
       "      <td>-0.229353</td>\n",
       "      <td>3</td>\n",
       "      <td>2</td>\n",
       "      <td>92</td>\n",
       "      <td>15123</td>\n",
       "      <td>546</td>\n",
       "    </tr>\n",
       "    <tr>\n",
       "      <th>258884</th>\n",
       "      <td>0.061220</td>\n",
       "      <td>3</td>\n",
       "      <td>2</td>\n",
       "      <td>128</td>\n",
       "      <td>17008</td>\n",
       "      <td>112</td>\n",
       "    </tr>\n",
       "    <tr>\n",
       "      <th>258886</th>\n",
       "      <td>0.487856</td>\n",
       "      <td>3</td>\n",
       "      <td>2</td>\n",
       "      <td>128</td>\n",
       "      <td>4873</td>\n",
       "      <td>687</td>\n",
       "    </tr>\n",
       "    <tr>\n",
       "      <th>258887</th>\n",
       "      <td>-0.332553</td>\n",
       "      <td>6</td>\n",
       "      <td>2</td>\n",
       "      <td>124</td>\n",
       "      <td>12767</td>\n",
       "      <td>764</td>\n",
       "    </tr>\n",
       "  </tbody>\n",
       "</table>\n",
       "<p>162821 rows × 6 columns</p>\n",
       "</div>"
      ],
      "text/plain": [
       "           price  category  Condition  Brand  Mileage  Model\n",
       "31      2.188633         3          0    119        0    678\n",
       "1349    1.323831         3          1    128      972    198\n",
       "1701    0.862604         3          1    128     3504    141\n",
       "1702    0.401376         3          1     26     9493    125\n",
       "1917    0.977911         3          2     82    15028    174\n",
       "...          ...       ...        ...    ...      ...    ...\n",
       "258881  1.149141         3          2    128     7344    198\n",
       "258883 -0.229353         3          2     92    15123    546\n",
       "258884  0.061220         3          2    128    17008    112\n",
       "258886  0.487856         3          2    128     4873    687\n",
       "258887 -0.332553         6          2    124    12767    764\n",
       "\n",
       "[162821 rows x 6 columns]"
      ]
     },
     "execution_count": 56,
     "metadata": {},
     "output_type": "execute_result"
    }
   ],
   "source": [
    "df3"
   ]
  },
  {
   "cell_type": "code",
   "execution_count": 57,
   "id": "9ae948cc-865a-4b20-af49-d881c0d93d83",
   "metadata": {},
   "outputs": [
    {
     "name": "stdout",
     "output_type": "stream",
     "text": [
      "<class 'pandas.core.frame.DataFrame'>\n",
      "Index: 162821 entries, 31 to 258887\n",
      "Data columns (total 6 columns):\n",
      " #   Column     Non-Null Count   Dtype  \n",
      "---  ------     --------------   -----  \n",
      " 0   price      162821 non-null  float64\n",
      " 1   category   162821 non-null  int64  \n",
      " 2   Condition  162821 non-null  int64  \n",
      " 3   Brand      162821 non-null  int64  \n",
      " 4   Mileage    162821 non-null  int64  \n",
      " 5   Model      162821 non-null  int64  \n",
      "dtypes: float64(1), int64(5)\n",
      "memory usage: 8.7 MB\n"
     ]
    }
   ],
   "source": [
    "df3.info()"
   ]
  },
  {
   "cell_type": "code",
   "execution_count": 58,
   "id": "748a168f-4d7f-4b84-8aa8-9f13619135e4",
   "metadata": {},
   "outputs": [
    {
     "data": {
      "text/html": [
       "<div>\n",
       "<style scoped>\n",
       "    .dataframe tbody tr th:only-of-type {\n",
       "        vertical-align: middle;\n",
       "    }\n",
       "\n",
       "    .dataframe tbody tr th {\n",
       "        vertical-align: top;\n",
       "    }\n",
       "\n",
       "    .dataframe thead th {\n",
       "        text-align: right;\n",
       "    }\n",
       "</style>\n",
       "<table border=\"1\" class=\"dataframe\">\n",
       "  <thead>\n",
       "    <tr style=\"text-align: right;\">\n",
       "      <th></th>\n",
       "      <th>price</th>\n",
       "      <th>category</th>\n",
       "      <th>Condition</th>\n",
       "      <th>Brand</th>\n",
       "      <th>Mileage</th>\n",
       "      <th>Model</th>\n",
       "    </tr>\n",
       "  </thead>\n",
       "  <tbody>\n",
       "    <tr>\n",
       "      <th>count</th>\n",
       "      <td>1.628210e+05</td>\n",
       "      <td>162821.000000</td>\n",
       "      <td>162821.000000</td>\n",
       "      <td>162821.000000</td>\n",
       "      <td>162821.000000</td>\n",
       "      <td>162821.000000</td>\n",
       "    </tr>\n",
       "    <tr>\n",
       "      <th>mean</th>\n",
       "      <td>-6.982320e-19</td>\n",
       "      <td>4.937410</td>\n",
       "      <td>1.952746</td>\n",
       "      <td>71.190786</td>\n",
       "      <td>9420.141917</td>\n",
       "      <td>482.517108</td>\n",
       "    </tr>\n",
       "    <tr>\n",
       "      <th>std</th>\n",
       "      <td>1.000003e+00</td>\n",
       "      <td>2.166502</td>\n",
       "      <td>0.280124</td>\n",
       "      <td>46.623784</td>\n",
       "      <td>4882.807773</td>\n",
       "      <td>222.683664</td>\n",
       "    </tr>\n",
       "    <tr>\n",
       "      <th>min</th>\n",
       "      <td>-3.481191e-01</td>\n",
       "      <td>0.000000</td>\n",
       "      <td>0.000000</td>\n",
       "      <td>0.000000</td>\n",
       "      <td>0.000000</td>\n",
       "      <td>0.000000</td>\n",
       "    </tr>\n",
       "    <tr>\n",
       "      <th>25%</th>\n",
       "      <td>-3.192925e-01</td>\n",
       "      <td>3.000000</td>\n",
       "      <td>2.000000</td>\n",
       "      <td>26.000000</td>\n",
       "      <td>5473.000000</td>\n",
       "      <td>292.000000</td>\n",
       "    </tr>\n",
       "    <tr>\n",
       "      <th>50%</th>\n",
       "      <td>-2.685574e-01</td>\n",
       "      <td>6.000000</td>\n",
       "      <td>2.000000</td>\n",
       "      <td>73.000000</td>\n",
       "      <td>9493.000000</td>\n",
       "      <td>579.000000</td>\n",
       "    </tr>\n",
       "    <tr>\n",
       "      <th>75%</th>\n",
       "      <td>4.219474e-02</td>\n",
       "      <td>6.000000</td>\n",
       "      <td>2.000000</td>\n",
       "      <td>122.000000</td>\n",
       "      <td>13424.000000</td>\n",
       "      <td>637.000000</td>\n",
       "    </tr>\n",
       "    <tr>\n",
       "      <th>max</th>\n",
       "      <td>2.279596e+02</td>\n",
       "      <td>9.000000</td>\n",
       "      <td>2.000000</td>\n",
       "      <td>141.000000</td>\n",
       "      <td>19337.000000</td>\n",
       "      <td>925.000000</td>\n",
       "    </tr>\n",
       "  </tbody>\n",
       "</table>\n",
       "</div>"
      ],
      "text/plain": [
       "              price       category      Condition          Brand  \\\n",
       "count  1.628210e+05  162821.000000  162821.000000  162821.000000   \n",
       "mean  -6.982320e-19       4.937410       1.952746      71.190786   \n",
       "std    1.000003e+00       2.166502       0.280124      46.623784   \n",
       "min   -3.481191e-01       0.000000       0.000000       0.000000   \n",
       "25%   -3.192925e-01       3.000000       2.000000      26.000000   \n",
       "50%   -2.685574e-01       6.000000       2.000000      73.000000   \n",
       "75%    4.219474e-02       6.000000       2.000000     122.000000   \n",
       "max    2.279596e+02       9.000000       2.000000     141.000000   \n",
       "\n",
       "             Mileage          Model  \n",
       "count  162821.000000  162821.000000  \n",
       "mean     9420.141917     482.517108  \n",
       "std      4882.807773     222.683664  \n",
       "min         0.000000       0.000000  \n",
       "25%      5473.000000     292.000000  \n",
       "50%      9493.000000     579.000000  \n",
       "75%     13424.000000     637.000000  \n",
       "max     19337.000000     925.000000  "
      ]
     },
     "execution_count": 58,
     "metadata": {},
     "output_type": "execute_result"
    }
   ],
   "source": [
    "df3.describe()"
   ]
  },
  {
   "cell_type": "code",
   "execution_count": 59,
   "id": "af541da7-bd17-44ef-98a1-cc638e394d07",
   "metadata": {},
   "outputs": [
    {
     "data": {
      "text/plain": [
       "Index(['price', 'category', 'Condition', 'Brand', 'Mileage', 'Model'], dtype='object')"
      ]
     },
     "execution_count": 59,
     "metadata": {},
     "output_type": "execute_result"
    }
   ],
   "source": [
    "df3.columns"
   ]
  },
  {
   "cell_type": "code",
   "execution_count": 60,
   "id": "3bda3c0c-4b05-4a9f-8acc-55d109f97892",
   "metadata": {},
   "outputs": [
    {
     "name": "stdout",
     "output_type": "stream",
     "text": [
      "              price  category  Condition     Brand   Mileage     Model\n",
      "price      1.000000 -0.159119   0.004096  0.100729  0.061881 -0.017988\n",
      "category  -0.159119  1.000000   0.120342 -0.251661 -0.189082 -0.060442\n",
      "Condition  0.004096  0.120342   1.000000 -0.037850  0.127862 -0.021364\n",
      "Brand      0.100729 -0.251661  -0.037850  1.000000  0.177769 -0.028526\n",
      "Mileage    0.061881 -0.189082   0.127862  0.177769  1.000000 -0.013293\n",
      "Model     -0.017988 -0.060442  -0.021364 -0.028526 -0.013293  1.000000\n"
     ]
    }
   ],
   "source": [
    "import pandas as pd\n",
    "\n",
    "\n",
    "# Select the relevant columns for correlation analysis\n",
    "df_subset = df3[['price', 'category', 'Condition', 'Brand', 'Mileage', 'Model']]\n",
    "\n",
    "# Compute the correlation matrix\n",
    "correlation_matrix = df_subset.corr()\n",
    "\n",
    "# Display the correlation matrix\n",
    "print(correlation_matrix)\n"
   ]
  },
  {
   "cell_type": "code",
   "execution_count": 61,
   "id": "8f836f0f-bf70-414f-9ca4-106e3a5bae01",
   "metadata": {},
   "outputs": [
    {
     "data": {
      "image/png": "[encoded data removed]",
      "text/plain": [
       "<Figure size 1000x800 with 2 Axes>"
      ]
     },
     "metadata": {},
     "output_type": "display_data"
    }
   ],
   "source": [
    "import pandas as pd\n",
    "import seaborn as sns\n",
    "import matplotlib.pyplot as plt\n",
    "\n",
    "\n",
    "# Select the relevant columns for correlation analysis\n",
    "df_subset = df3[['price', 'category', 'Condition', 'Brand', 'Mileage', 'Model']]\n",
    "\n",
    "# Compute the correlation matrix\n",
    "correlation_matrix = df_subset.corr()\n",
    "\n",
    "# Set up the matplotlib figure\n",
    "plt.figure(figsize=(10, 8))\n",
    "\n",
    "# Create the heatmap\n",
    "sns.heatmap(correlation_matrix, annot=True, cmap='coolwarm', fmt='.2f', cbar=True)\n",
    "\n",
    "# Display the heatmap\n",
    "plt.show()\n"
   ]
  },
  {
   "cell_type": "code",
   "execution_count": 62,
   "id": "b631e292-ba0b-43c5-b125-56dcda3a53b0",
   "metadata": {},
   "outputs": [
    {
     "name": "stdout",
     "output_type": "stream",
     "text": [
      "Features selected by RFE: Index(['category', 'Condition', 'Brand'], dtype='object')\n"
     ]
    }
   ],
   "source": [
    "import pandas as pd\n",
    "from sklearn.feature_selection import RFE\n",
    "from sklearn.linear_model import LinearRegression\n",
    "\n",
    "\n",
    "# Select the relevant columns for feature selection\n",
    "X = df3[['category', 'Condition', 'Brand', 'Mileage', 'Model']]  # Independent variables\n",
    "y = df3['price']  # Target variable\n",
    "\n",
    "# Initialize the model (Linear Regression in this case)\n",
    "model = LinearRegression()\n",
    "\n",
    "# Apply RFE for feature selection\n",
    "rfe = RFE(model, n_features_to_select=3)  # Select the top 3 features (can be adjusted)\n",
    "X_rfe = rfe.fit_transform(X, y)\n",
    "\n",
    "# Display the features selected by RFE\n",
    "selected_features_rfe = X.columns[rfe.support_]\n",
    "print(\"Features selected by RFE:\", selected_features_rfe)\n"
   ]
  },
  {
   "cell_type": "code",
   "execution_count": 63,
   "id": "afc14e54-65ae-468f-9ec6-f1f72cf0e9e1",
   "metadata": {},
   "outputs": [],
   "source": [
    "#model training\n",
    "x=df3.iloc[:,1:]\n",
    "y=df3.iloc[:,0] # we separated our target veriable and all data"
   ]
  },
  {
   "cell_type": "code",
   "execution_count": 64,
   "id": "db836c28-63a1-4ee2-8f2f-e533c4a4933b",
   "metadata": {},
   "outputs": [
    {
     "data": {
      "text/plain": [
       "31        2.188633\n",
       "1349      1.323831\n",
       "1701      0.862604\n",
       "1702      0.401376\n",
       "1917      0.977911\n",
       "            ...   \n",
       "258881    1.149141\n",
       "258883   -0.229353\n",
       "258884    0.061220\n",
       "258886    0.487856\n",
       "258887   -0.332553\n",
       "Name: price, Length: 162821, dtype: float64"
      ]
     },
     "execution_count": 64,
     "metadata": {},
     "output_type": "execute_result"
    }
   ],
   "source": [
    "y"
   ]
  },
  {
   "cell_type": "code",
   "execution_count": 65,
   "id": "c7effe0d-ee52-4025-9125-8c8fd88cc7e6",
   "metadata": {},
   "outputs": [],
   "source": [
    "from sklearn.model_selection import train_test_split   # imported train_test_split"
   ]
  },
  {
   "cell_type": "code",
   "execution_count": 66,
   "id": "2a9888bd-912f-4019-bd8b-abcbdf0093a0",
   "metadata": {},
   "outputs": [],
   "source": [
    "x_train,x_test,y_train,y_test = train_test_split(x,y,test_size=0.2,random_state=2)  # we splited data "
   ]
  },
  {
   "cell_type": "code",
   "execution_count": null,
   "id": "0ca8d576-86f2-40b0-960b-bcb45bfa3136",
   "metadata": {},
   "outputs": [],
   "source": [
    "#linear regression"
   ]
  },
  {
   "cell_type": "code",
   "execution_count": 67,
   "id": "6a926b1c-0971-4430-a45f-eace7f325470",
   "metadata": {},
   "outputs": [],
   "source": [
    "from sklearn.linear_model import LinearRegression  # first we are going to apply multiple regression so we imported LinearRegression"
   ]
  },
  {
   "cell_type": "code",
   "execution_count": 68,
   "id": "b9c820f0-6e48-45cc-b8b2-76b115bcc382",
   "metadata": {},
   "outputs": [],
   "source": [
    "regressor=LinearRegression()   "
   ]
  },
  {
   "cell_type": "code",
   "execution_count": 69,
   "id": "447ee330-43fb-419c-b66f-17e2240ab090",
   "metadata": {},
   "outputs": [],
   "source": [
    "modd=regressor.fit(x_train,y_train)  # trained our model on trained data"
   ]
  },
  {
   "cell_type": "code",
   "execution_count": 70,
   "id": "82226d83-384c-4a47-a8de-56fc60fb6e38",
   "metadata": {},
   "outputs": [],
   "source": [
    "y_pred=modd.predict(x_test) # predicted our data "
   ]
  },
  {
   "cell_type": "code",
   "execution_count": 73,
   "id": "22900f5c-5c66-4782-9930-50c95eb7de6e",
   "metadata": {},
   "outputs": [],
   "source": [
    "from sklearn.metrics import mean_squared_error, r2_score, mean_absolute_error, accuracy_score"
   ]
  },
  {
   "cell_type": "code",
   "execution_count": 74,
   "id": "0d34d006-5830-462e-9d48-db7ea82f206d",
   "metadata": {},
   "outputs": [
    {
     "data": {
      "text/plain": [
       "0.34645291152843694"
      ]
     },
     "execution_count": 74,
     "metadata": {},
     "output_type": "execute_result"
    }
   ],
   "source": [
    "mean_absolute_error(y_pred,y_test)"
   ]
  },
  {
   "cell_type": "code",
   "execution_count": 75,
   "id": "c12f479b-63ee-408c-ac6f-0b3247b8530d",
   "metadata": {},
   "outputs": [],
   "source": [
    "from sklearn.tree import  DecisionTreeRegressor\n",
    "from sklearn.metrics import mean_squared_error\n",
    "d_regressor=DecisionTreeRegressor()       # now we are going to apply Decision tree"
   ]
  },
  {
   "cell_type": "code",
   "execution_count": 76,
   "id": "b56cb2ae-6f57-4743-ac24-ef382bf65e71",
   "metadata": {},
   "outputs": [],
   "source": [
    "model=d_regressor.fit(x_train,y_train)  # trained our model"
   ]
  },
  {
   "cell_type": "code",
   "execution_count": 77,
   "id": "e01328f4-ee6f-4a09-bd5d-fdca250784c1",
   "metadata": {},
   "outputs": [],
   "source": [
    "y_pred=model.predict(x_test)   # calculated predicted values"
   ]
  },
  {
   "cell_type": "code",
   "execution_count": 78,
   "id": "9db57115-2ebc-461f-be20-06b19acca799",
   "metadata": {},
   "outputs": [
    {
     "name": "stdout",
     "output_type": "stream",
     "text": [
      "Accuracy : 0.7787496285770441\n"
     ]
    }
   ],
   "source": [
    "print(f\"Accuracy : {r2_score(y_pred,y_test)}\")  "
   ]
  },
  {
   "cell_type": "code",
   "execution_count": 79,
   "id": "928b5f35-68e5-44a0-90c3-4cecb095953f",
   "metadata": {},
   "outputs": [
    {
     "name": "stdout",
     "output_type": "stream",
     "text": [
      "Decison tree Mean Squared Error : 0.12602641479611798\n"
     ]
    }
   ],
   "source": [
    "mse = mean_squared_error(y_test, y_pred)\n",
    "print(f\"Decison tree Mean Squared Error : {mse}\")"
   ]
  },
  {
   "cell_type": "code",
   "execution_count": 80,
   "id": "9f0d005a-f156-47f0-9b36-4975a373ba21",
   "metadata": {},
   "outputs": [
    {
     "name": "stdout",
     "output_type": "stream",
     "text": [
      "Decison tree Mean Squared Error : 0.12602641479611798\n"
     ]
    }
   ],
   "source": [
    "mse = mean_squared_error(y_test, y_pred)\n",
    "print(f\"Decison tree Mean Squared Error : {mse}\")"
   ]
  },
  {
   "cell_type": "code",
   "execution_count": 81,
   "id": "2a9467df-ecaf-4a61-a1f1-49267ac49d0c",
   "metadata": {},
   "outputs": [],
   "source": [
    "from sklearn.ensemble import RandomForestRegressor"
   ]
  },
  {
   "cell_type": "code",
   "execution_count": 82,
   "id": "1f17d4f0-fe28-4aac-a173-7a3e844abe5d",
   "metadata": {},
   "outputs": [],
   "source": [
    "regressor = RandomForestRegressor(n_estimators=20, random_state=42)"
   ]
  },
  {
   "cell_type": "code",
   "execution_count": 83,
   "id": "dec732c0-2cc8-4579-9f68-5220e811d97f",
   "metadata": {},
   "outputs": [
    {
     "data": {
      "text/html": [
       "<style>#sk-container-id-1 {color: black;background-color: white;}#sk-container-id-1 pre{padding: 0;}#sk-container-id-1 div.sk-toggleable {background-color: white;}#sk-container-id-1 label.sk-toggleable__label {cursor: pointer;display: block;width: 100%;margin-bottom: 0;padding: 0.3em;box-sizing: border-box;text-align: center;}#sk-container-id-1 label.sk-toggleable__label-arrow:before {content: \"▸\";float: left;margin-right: 0.25em;color: #696969;}#sk-container-id-1 label.sk-toggleable__label-arrow:hover:before {color: black;}#sk-container-id-1 div.sk-estimator:hover label.sk-toggleable__label-arrow:before {color: black;}#sk-container-id-1 div.sk-toggleable__content {max-height: 0;max-width: 0;overflow: hidden;text-align: left;background-color: #f0f8ff;}#sk-container-id-1 div.sk-toggleable__content pre {margin: 0.2em;color: black;border-radius: 0.25em;background-color: #f0f8ff;}#sk-container-id-1 input.sk-toggleable__control:checked~div.sk-toggleable__content {max-height: 200px;max-width: 100%;overflow: auto;}#sk-container-id-1 input.sk-toggleable__control:checked~label.sk-toggleable__label-arrow:before {content: \"▾\";}#sk-container-id-1 div.sk-estimator input.sk-toggleable__control:checked~label.sk-toggleable__label {background-color: #d4ebff;}#sk-container-id-1 div.sk-label input.sk-toggleable__control:checked~label.sk-toggleable__label {background-color: #d4ebff;}#sk-container-id-1 input.sk-hidden--visually {border: 0;clip: rect(1px 1px 1px 1px);clip: rect(1px, 1px, 1px, 1px);height: 1px;margin: -1px;overflow: hidden;padding: 0;position: absolute;width: 1px;}#sk-container-id-1 div.sk-estimator {font-family: monospace;background-color: #f0f8ff;border: 1px dotted black;border-radius: 0.25em;box-sizing: border-box;margin-bottom: 0.5em;}#sk-container-id-1 div.sk-estimator:hover {background-color: #d4ebff;}#sk-container-id-1 div.sk-parallel-item::after {content: \"\";width: 100%;border-bottom: 1px solid gray;flex-grow: 1;}#sk-container-id-1 div.sk-label:hover label.sk-toggleable__label {background-color: #d4ebff;}#sk-container-id-1 div.sk-serial::before {content: \"\";position: absolute;border-left: 1px solid gray;box-sizing: border-box;top: 0;bottom: 0;left: 50%;z-index: 0;}#sk-container-id-1 div.sk-serial {display: flex;flex-direction: column;align-items: center;background-color: white;padding-right: 0.2em;padding-left: 0.2em;position: relative;}#sk-container-id-1 div.sk-item {position: relative;z-index: 1;}#sk-container-id-1 div.sk-parallel {display: flex;align-items: stretch;justify-content: center;background-color: white;position: relative;}#sk-container-id-1 div.sk-item::before, #sk-container-id-1 div.sk-parallel-item::before {content: \"\";position: absolute;border-left: 1px solid gray;box-sizing: border-box;top: 0;bottom: 0;left: 50%;z-index: -1;}#sk-container-id-1 div.sk-parallel-item {display: flex;flex-direction: column;z-index: 1;position: relative;background-color: white;}#sk-container-id-1 div.sk-parallel-item:first-child::after {align-self: flex-end;width: 50%;}#sk-container-id-1 div.sk-parallel-item:last-child::after {align-self: flex-start;width: 50%;}#sk-container-id-1 div.sk-parallel-item:only-child::after {width: 0;}#sk-container-id-1 div.sk-dashed-wrapped {border: 1px dashed gray;margin: 0 0.4em 0.5em 0.4em;box-sizing: border-box;padding-bottom: 0.4em;background-color: white;}#sk-container-id-1 div.sk-label label {font-family: monospace;font-weight: bold;display: inline-block;line-height: 1.2em;}#sk-container-id-1 div.sk-label-container {text-align: center;}#sk-container-id-1 div.sk-container {/* jupyter's `normalize.less` sets `[hidden] { display: none; }` but bootstrap.min.css set `[hidden] { display: none !important; }` so we also need the `!important` here to be able to override the default hidden behavior on the sphinx rendered scikit-learn.org. See: https://github.com/scikit-learn/scikit-learn/issues/21755 */display: inline-block !important;position: relative;}#sk-container-id-1 div.sk-text-repr-fallback {display: none;}</style><div id=\"sk-container-id-1\" class=\"sk-top-container\"><div class=\"sk-text-repr-fallback\"><pre>RandomForestRegressor(n_estimators=20, random_state=42)</pre><b>In a Jupyter environment, please rerun this cell to show the HTML representation or trust the notebook. <br />On GitHub, the HTML representation is unable to render, please try loading this page with nbviewer.org.</b></div><div class=\"sk-container\" hidden><div class=\"sk-item\"><div class=\"sk-estimator sk-toggleable\"><input class=\"sk-toggleable__control sk-hidden--visually\" id=\"sk-estimator-id-1\" type=\"checkbox\" checked><label for=\"sk-estimator-id-1\" class=\"sk-toggleable__label sk-toggleable__label-arrow\">RandomForestRegressor</label><div class=\"sk-toggleable__content\"><pre>RandomForestRegressor(n_estimators=20, random_state=42)</pre></div></div></div></div></div>"
      ],
      "text/plain": [
       "RandomForestRegressor(n_estimators=20, random_state=42)"
      ]
     },
     "execution_count": 83,
     "metadata": {},
     "output_type": "execute_result"
    }
   ],
   "source": [
    "regressor.fit(x_train, y_train)"
   ]
  },
  {
   "cell_type": "code",
   "execution_count": 84,
   "id": "cd526dcb-f22b-4508-9cb9-34b153cd863f",
   "metadata": {},
   "outputs": [],
   "source": [
    "y_pred= regressor.predict(x_test)"
   ]
  },
  {
   "cell_type": "code",
   "execution_count": 85,
   "id": "613ac267-2253-40a8-8cdc-9e968b8277d4",
   "metadata": {},
   "outputs": [
    {
     "name": "stdout",
     "output_type": "stream",
     "text": [
      "Random Forest Mean Squared Error: 0.12179892467548661\n"
     ]
    }
   ],
   "source": [
    "mse = mean_squared_error(y_test, y_pred)\n",
    "print(f\"Random Forest Mean Squared Error: {mse}\")"
   ]
  },
  {
   "cell_type": "code",
   "execution_count": 86,
   "id": "d2ced049-d0e8-4e30-9ac4-5b7ba10987cc",
   "metadata": {},
   "outputs": [
    {
     "name": "stdout",
     "output_type": "stream",
     "text": [
      "Accuracy : 0.7830958905386876\n"
     ]
    }
   ],
   "source": [
    "print(f\"Accuracy : {r2_score(y_pred,y_test)}\")"
   ]
  },
  {
   "cell_type": "code",
   "execution_count": 87,
   "id": "a2156c30-5bbd-460d-8dba-53c517e15449",
   "metadata": {},
   "outputs": [
    {
     "data": {
      "text/plain": [
       "(162821, 6)"
      ]
     },
     "execution_count": 87,
     "metadata": {},
     "output_type": "execute_result"
    }
   ],
   "source": [
    "df3.shape"
   ]
  },
  {
   "cell_type": "code",
   "execution_count": 88,
   "id": "f6ccdc46-024a-4a3a-a26b-f19c1ce760e0",
   "metadata": {},
   "outputs": [
    {
     "data": {
      "text/html": [
       "<div>\n",
       "<style scoped>\n",
       "    .dataframe tbody tr th:only-of-type {\n",
       "        vertical-align: middle;\n",
       "    }\n",
       "\n",
       "    .dataframe tbody tr th {\n",
       "        vertical-align: top;\n",
       "    }\n",
       "\n",
       "    .dataframe thead th {\n",
       "        text-align: right;\n",
       "    }\n",
       "</style>\n",
       "<table border=\"1\" class=\"dataframe\">\n",
       "  <thead>\n",
       "    <tr style=\"text-align: right;\">\n",
       "      <th></th>\n",
       "      <th>price</th>\n",
       "      <th>category</th>\n",
       "      <th>Condition</th>\n",
       "      <th>Brand</th>\n",
       "      <th>Mileage</th>\n",
       "      <th>Model</th>\n",
       "    </tr>\n",
       "  </thead>\n",
       "  <tbody>\n",
       "    <tr>\n",
       "      <th>31</th>\n",
       "      <td>2.188633</td>\n",
       "      <td>3</td>\n",
       "      <td>0</td>\n",
       "      <td>119</td>\n",
       "      <td>0</td>\n",
       "      <td>678</td>\n",
       "    </tr>\n",
       "    <tr>\n",
       "      <th>1349</th>\n",
       "      <td>1.323831</td>\n",
       "      <td>3</td>\n",
       "      <td>1</td>\n",
       "      <td>128</td>\n",
       "      <td>972</td>\n",
       "      <td>198</td>\n",
       "    </tr>\n",
       "    <tr>\n",
       "      <th>1701</th>\n",
       "      <td>0.862604</td>\n",
       "      <td>3</td>\n",
       "      <td>1</td>\n",
       "      <td>128</td>\n",
       "      <td>3504</td>\n",
       "      <td>141</td>\n",
       "    </tr>\n",
       "    <tr>\n",
       "      <th>1702</th>\n",
       "      <td>0.401376</td>\n",
       "      <td>3</td>\n",
       "      <td>1</td>\n",
       "      <td>26</td>\n",
       "      <td>9493</td>\n",
       "      <td>125</td>\n",
       "    </tr>\n",
       "    <tr>\n",
       "      <th>1917</th>\n",
       "      <td>0.977911</td>\n",
       "      <td>3</td>\n",
       "      <td>2</td>\n",
       "      <td>82</td>\n",
       "      <td>15028</td>\n",
       "      <td>174</td>\n",
       "    </tr>\n",
       "    <tr>\n",
       "      <th>...</th>\n",
       "      <td>...</td>\n",
       "      <td>...</td>\n",
       "      <td>...</td>\n",
       "      <td>...</td>\n",
       "      <td>...</td>\n",
       "      <td>...</td>\n",
       "    </tr>\n",
       "    <tr>\n",
       "      <th>258881</th>\n",
       "      <td>1.149141</td>\n",
       "      <td>3</td>\n",
       "      <td>2</td>\n",
       "      <td>128</td>\n",
       "      <td>7344</td>\n",
       "      <td>198</td>\n",
       "    </tr>\n",
       "    <tr>\n",
       "      <th>258883</th>\n",
       "      <td>-0.229353</td>\n",
       "      <td>3</td>\n",
       "      <td>2</td>\n",
       "      <td>92</td>\n",
       "      <td>15123</td>\n",
       "      <td>546</td>\n",
       "    </tr>\n",
       "    <tr>\n",
       "      <th>258884</th>\n",
       "      <td>0.061220</td>\n",
       "      <td>3</td>\n",
       "      <td>2</td>\n",
       "      <td>128</td>\n",
       "      <td>17008</td>\n",
       "      <td>112</td>\n",
       "    </tr>\n",
       "    <tr>\n",
       "      <th>258886</th>\n",
       "      <td>0.487856</td>\n",
       "      <td>3</td>\n",
       "      <td>2</td>\n",
       "      <td>128</td>\n",
       "      <td>4873</td>\n",
       "      <td>687</td>\n",
       "    </tr>\n",
       "    <tr>\n",
       "      <th>258887</th>\n",
       "      <td>-0.332553</td>\n",
       "      <td>6</td>\n",
       "      <td>2</td>\n",
       "      <td>124</td>\n",
       "      <td>12767</td>\n",
       "      <td>764</td>\n",
       "    </tr>\n",
       "  </tbody>\n",
       "</table>\n",
       "<p>162821 rows × 6 columns</p>\n",
       "</div>"
      ],
      "text/plain": [
       "           price  category  Condition  Brand  Mileage  Model\n",
       "31      2.188633         3          0    119        0    678\n",
       "1349    1.323831         3          1    128      972    198\n",
       "1701    0.862604         3          1    128     3504    141\n",
       "1702    0.401376         3          1     26     9493    125\n",
       "1917    0.977911         3          2     82    15028    174\n",
       "...          ...       ...        ...    ...      ...    ...\n",
       "258881  1.149141         3          2    128     7344    198\n",
       "258883 -0.229353         3          2     92    15123    546\n",
       "258884  0.061220         3          2    128    17008    112\n",
       "258886  0.487856         3          2    128     4873    687\n",
       "258887 -0.332553         6          2    124    12767    764\n",
       "\n",
       "[162821 rows x 6 columns]"
      ]
     },
     "execution_count": 88,
     "metadata": {},
     "output_type": "execute_result"
    }
   ],
   "source": [
    "df3\n"
   ]
  },
  {
   "cell_type": "code",
   "execution_count": null,
   "id": "8290eda4-cc42-46d2-8c4b-2859e4c10fbb",
   "metadata": {},
   "outputs": [],
   "source": [
    "######################################################################################"
   ]
  },
  {
   "cell_type": "code",
   "execution_count": 89,
   "id": "4ed198a4-715c-4cce-b7ab-d9754f2c7c48",
   "metadata": {},
   "outputs": [],
   "source": [
    "df4 = df3"
   ]
  },
  {
   "cell_type": "code",
   "execution_count": 90,
   "id": "41d7669a-9535-448f-98dd-f52e60f28ec2",
   "metadata": {},
   "outputs": [
    {
     "data": {
      "image/png": "[encoded data removed]",
      "text/plain": [
       "<Figure size 800x600 with 1 Axes>"
      ]
     },
     "metadata": {},
     "output_type": "display_data"
    }
   ],
   "source": [
    "# Plot the box plot of the 'price' column before removing outliers\n",
    "plt.figure(figsize=(8, 6))\n",
    "sns.boxplot(df4['price'])\n",
    "plt.title('Box Plot of Price (Before Removing Outliers)')\n",
    "plt.xlabel('Price')\n",
    "plt.show()"
   ]
  },
  {
   "cell_type": "code",
   "execution_count": 92,
   "id": "ff5bab4e-f1e6-4604-8590-4d3ff8d1cf6c",
   "metadata": {},
   "outputs": [],
   "source": [
    " # Identify and remove outliers\n",
    "q1 = df4['price'].quantile(0.25)\n",
    "q3 = df4['price'].quantile(0.75)\n",
    "iqr = q3 - q1\n",
    "lower_bound = q1 - 1.5 * iqr\n",
    "upper_bound = q3 + 1.5 * iqr\n",
    "df4 = df4[(df4['price'] >= lower_bound) & (df4['price'] <= upper_bound)]"
   ]
  },
  {
   "cell_type": "code",
   "execution_count": 93,
   "id": "84d59127-d620-4823-b5e8-b4b264d6e27c",
   "metadata": {},
   "outputs": [
    {
     "data": {
      "image/png": "[encoded data removed]",
      "text/plain": [
       "<Figure size 800x600 with 1 Axes>"
      ]
     },
     "metadata": {},
     "output_type": "display_data"
    }
   ],
   "source": [
    " # Plot the box plot of the 'price' column after removing outliers\n",
    "plt.figure(figsize=(8, 6))\n",
    "sns.boxplot(df4['price'])\n",
    "plt.title('Box Plot of Price (After Removing Outliers)')\n",
    "plt.xlabel('Price')\n",
    "plt.show()"
   ]
  },
  {
   "cell_type": "code",
   "execution_count": 98,
   "id": "191abe46-338a-4b2d-98f0-69d058d48f2f",
   "metadata": {},
   "outputs": [
    {
     "name": "stdout",
     "output_type": "stream",
     "text": [
      "Correlation Matrix:\n",
      "              price  category  Condition     Brand   Mileage     Model\n",
      "price      1.000000 -0.190922   0.035928  0.342125  0.404456 -0.027256\n",
      "category  -0.190922  1.000000   0.128900 -0.277827 -0.215696 -0.074117\n",
      "Condition  0.035928  0.128900   1.000000 -0.043773  0.122616 -0.021459\n",
      "Brand      0.342125 -0.277827  -0.043773  1.000000  0.168104 -0.032284\n",
      "Mileage    0.404456 -0.215696   0.122616  0.168104  1.000000 -0.023028\n",
      "Model     -0.027256 -0.074117  -0.021459 -0.032284 -0.023028  1.000000\n"
     ]
    }
   ],
   "source": [
    "# Perform correlation analysis on numeric columns\n",
    "num_cols = df4.select_dtypes(include=['int64', 'float64']).columns\n",
    "corr_matrix = df4[num_cols].corr()\n",
    "print(\"Correlation Matrix:\")\n",
    "print(corr_matrix)"
   ]
  },
  {
   "cell_type": "code",
   "execution_count": 99,
   "id": "dd2529e3-caad-4861-9953-7bc2c06a18d6",
   "metadata": {},
   "outputs": [
    {
     "data": {
      "image/png": "[encoded data removed]",
      "text/plain": [
       "<Figure size 1000x800 with 2 Axes>"
      ]
     },
     "metadata": {},
     "output_type": "display_data"
    }
   ],
   "source": [
    "# Plot the correlation heatmap\n",
    "plt.figure(figsize=(10, 8))\n",
    "plt.title('Correlation Heatmap')\n",
    "sns.heatmap(corr_matrix, annot=True, cmap='YlOrRd')\n",
    "plt.show()"
   ]
  },
  {
   "cell_type": "code",
   "execution_count": 101,
   "id": "5d22d0c0-8cbf-40e5-b66b-626cb0da5457",
   "metadata": {},
   "outputs": [],
   "source": [
    "from sklearn.linear_model import LinearRegression, Ridge, Lasso\n",
    "from sklearn.ensemble import RandomForestRegressor"
   ]
  },
  {
   "cell_type": "code",
   "execution_count": 102,
   "id": "a2db28ea-9a29-4076-a1c7-e850fbdb5617",
   "metadata": {},
   "outputs": [
    {
     "name": "stdout",
     "output_type": "stream",
     "text": [
      "Linear Regression - RMSE: 0.71, MAE: 0.35, R²: 0.05\n",
      "Ridge Regression - RMSE: 0.71, MAE: 0.35, R²: 0.05\n",
      "Lasso Regression - RMSE: 0.72, MAE: 0.36, R²: 0.02\n",
      "Random Forest Regressor - RMSE: 0.32, MAE: 0.08, R²: 0.80\n"
     ]
    }
   ],
   "source": [
    "# Train different regression models\n",
    "models = {\n",
    "        'Linear Regression': LinearRegression(),\n",
    "        'Ridge Regression': Ridge(),\n",
    "        'Lasso Regression': Lasso(),\n",
    "        'Random Forest Regressor': RandomForestRegressor()\n",
    "}\n",
    "    \n",
    "for name, model in models.items():\n",
    "    model.fit(x_train, y_train)\n",
    "    y_pred = model.predict(x_test)\n",
    "    rmse = np.sqrt(mean_squared_error(y_test, y_pred))\n",
    "    mae = mean_absolute_error(y_test, y_pred)\n",
    "    r2 = r2_score(y_test, y_pred)\n",
    "    print(f\"{name} - RMSE: {rmse:.2f}, MAE: {mae:.2f}, R²: {r2:.2f}\")"
   ]
  },
  {
   "cell_type": "code",
   "execution_count": null,
   "id": "4301f1a2-b79c-42f5-aeea-f1ef676e8613",
   "metadata": {},
   "outputs": [],
   "source": []
  },
  {
   "cell_type": "code",
   "execution_count": null,
   "id": "ea8af086-e320-46be-bac7-3a2974f393f8",
   "metadata": {},
   "outputs": [],
   "source": []
  }
 ],
 "metadata": {
  "kernelspec": {
   "display_name": "Python 3 (ipykernel)",
   "language": "python",
   "name": "python3"
  },
  "language_info": {
   "codemirror_mode": {
    "name": "ipython",
    "version": 3
   },
   "file_extension": ".py",
   "mimetype": "text/x-python",
   "name": "python",
   "nbconvert_exporter": "python",
   "pygments_lexer": "ipython3",
   "version": "3.11.7"
  }
 },
 "nbformat": 4,
 "nbformat_minor": 5
}
