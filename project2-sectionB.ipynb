{
 "cells": [
  {
   "cell_type": "markdown",
   "id": "69869147-fb0f-4d4e-bb85-72e743ac12e4",
   "metadata": {},
   "source": [
    "# Problem Statement: Segment users based on their advertisement behaviors and characteristics."
   ]
  },
  {
   "cell_type": "code",
   "execution_count": 1,
   "id": "20c24062-f89c-498d-b743-8265cd7dccce",
   "metadata": {},
   "outputs": [],
   "source": [
    "#importing all required libraries\n",
    "import pandas as pd\n",
    "import numpy as np\n",
    "import matplotlib.pyplot as plt\n",
    "import seaborn as sns\n",
    "import ast"
   ]
  },
  {
   "cell_type": "code",
   "execution_count": 2,
   "id": "9632546e-e137-4e79-8eb1-e119e8c27085",
   "metadata": {},
   "outputs": [],
   "source": [
    "import os"
   ]
  },
  {
   "cell_type": "code",
   "execution_count": 3,
   "id": "c3895e91-8195-41ca-b9d7-012b74a47af9",
   "metadata": {},
   "outputs": [
    {
     "data": {
      "text/plain": [
       "'C:\\\\Users\\\\Kuldeep'"
      ]
     },
     "execution_count": 3,
     "metadata": {},
     "output_type": "execute_result"
    }
   ],
   "source": [
    "os.getcwd()"
   ]
  },
  {
   "cell_type": "code",
   "execution_count": 4,
   "id": "c30595c6-c4c4-42d1-8010-c36998dbc66e",
   "metadata": {},
   "outputs": [],
   "source": [
    "os.chdir(\"C:/Users/Kuldeep/Desktop/cdac mumbai new\")"
   ]
  },
  {
   "cell_type": "code",
   "execution_count": 5,
   "id": "a99039ac-3823-45a8-865b-5422fc5953ca",
   "metadata": {},
   "outputs": [],
   "source": [
    "df=pd.read_csv(\"vehicles.csv\")    #read the file"
   ]
  },
  {
   "cell_type": "code",
   "execution_count": 6,
   "id": "0c1f0f8e-f1ab-4a5b-86b5-1d8c2447076a",
   "metadata": {},
   "outputs": [
    {
     "data": {
      "text/html": [
       "<div>\n",
       "<style scoped>\n",
       "    .dataframe tbody tr th:only-of-type {\n",
       "        vertical-align: middle;\n",
       "    }\n",
       "\n",
       "    .dataframe tbody tr th {\n",
       "        vertical-align: top;\n",
       "    }\n",
       "\n",
       "    .dataframe thead th {\n",
       "        text-align: right;\n",
       "    }\n",
       "</style>\n",
       "<table border=\"1\" class=\"dataframe\">\n",
       "  <thead>\n",
       "    <tr style=\"text-align: right;\">\n",
       "      <th></th>\n",
       "      <th>ad_title</th>\n",
       "      <th>ad_description</th>\n",
       "      <th>details</th>\n",
       "      <th>slug</th>\n",
       "      <th>title</th>\n",
       "      <th>type</th>\n",
       "      <th>price</th>\n",
       "      <th>timestamp</th>\n",
       "      <th>posted_date</th>\n",
       "      <th>deactivation_date</th>\n",
       "      <th>...</th>\n",
       "      <th>is_doorstep_delivery</th>\n",
       "      <th>is_dsd_applicable</th>\n",
       "      <th>is_member</th>\n",
       "      <th>is_authorized_dealer</th>\n",
       "      <th>is_featured_member</th>\n",
       "      <th>is_verified</th>\n",
       "      <th>membership_level</th>\n",
       "      <th>member_since</th>\n",
       "      <th>properties</th>\n",
       "      <th>user</th>\n",
       "    </tr>\n",
       "  </thead>\n",
       "  <tbody>\n",
       "    <tr>\n",
       "      <th>0</th>\n",
       "      <td>Nissan Tiida Alternator  in Maharagama | ikman</td>\n",
       "      <td>**TISSA AUTO PARTS** Dealer of used Japanese m...</td>\n",
       "      <td>NaN</td>\n",
       "      <td>nissan-tiida-alternator-for-sale-colombo-3</td>\n",
       "      <td>Nissan Tiida Alternator</td>\n",
       "      <td>for_sale</td>\n",
       "      <td>Rs 18,000</td>\n",
       "      <td>23 Feb 11:35 pm</td>\n",
       "      <td>2023-02-23T23:35:10+05:30</td>\n",
       "      <td>2022-05-30T17:13:04.000Z</td>\n",
       "      <td>...</td>\n",
       "      <td>False</td>\n",
       "      <td>False</td>\n",
       "      <td>True</td>\n",
       "      <td>False</td>\n",
       "      <td>False</td>\n",
       "      <td>True</td>\n",
       "      <td>premium</td>\n",
       "      <td>September 2019</td>\n",
       "      <td>{'Condition': 'Reconditioned', 'Part or Access...</td>\n",
       "      <td>a6681dea494390daa516a6d2bdcb36e08c318574a13413...</td>\n",
       "    </tr>\n",
       "    <tr>\n",
       "      <th>1</th>\n",
       "      <td>Axio 165 Tail Light  in Kotte | ikman</td>\n",
       "      <td>Imported from Japan \\n\\nRight side available \\...</td>\n",
       "      <td>NaN</td>\n",
       "      <td>axio-165-tail-light-for-sale-colombo-14</td>\n",
       "      <td>Axio 165 Tail Light</td>\n",
       "      <td>for_sale</td>\n",
       "      <td>Rs 67,000</td>\n",
       "      <td>23 Feb 8:32 am</td>\n",
       "      <td>2023-02-23T08:32:44+05:30</td>\n",
       "      <td>2022-03-31T16:27:59.000Z</td>\n",
       "      <td>...</td>\n",
       "      <td>False</td>\n",
       "      <td>False</td>\n",
       "      <td>True</td>\n",
       "      <td>False</td>\n",
       "      <td>False</td>\n",
       "      <td>True</td>\n",
       "      <td>plus</td>\n",
       "      <td>June 2018</td>\n",
       "      <td>{'Condition': 'Reconditioned', 'Part or Access...</td>\n",
       "      <td>5d99b8e45a1bb318079da7a36392d9025e1644cb49ecbf...</td>\n",
       "    </tr>\n",
       "    <tr>\n",
       "      <th>2</th>\n",
       "      <td>Axio 165 / 161 Head light  in Kotte | ikman.lk</td>\n",
       "      <td>Imported from Japan \\n\\nAuto focus headlight a...</td>\n",
       "      <td>NaN</td>\n",
       "      <td>axio-165-161-head-light-for-sale-colombo</td>\n",
       "      <td>Axio 165 / 161 Head light</td>\n",
       "      <td>for_sale</td>\n",
       "      <td>Rs 85,000</td>\n",
       "      <td>01 Dec 8:27 pm</td>\n",
       "      <td>2022-12-01T20:27:49+05:30</td>\n",
       "      <td>2022-03-31T14:03:57.000Z</td>\n",
       "      <td>...</td>\n",
       "      <td>False</td>\n",
       "      <td>False</td>\n",
       "      <td>True</td>\n",
       "      <td>False</td>\n",
       "      <td>False</td>\n",
       "      <td>True</td>\n",
       "      <td>plus</td>\n",
       "      <td>June 2018</td>\n",
       "      <td>{'Condition': 'Reconditioned', 'Part or Access...</td>\n",
       "      <td>5d99b8e45a1bb318079da7a36392d9025e1644cb49ecbf...</td>\n",
       "    </tr>\n",
       "    <tr>\n",
       "      <th>3</th>\n",
       "      <td>Vigo side step ( Foot board)  in Kottawa | ikman</td>\n",
       "      <td>Hilux Vigo side step\\nBrand New Thaiwan\\nGood ...</td>\n",
       "      <td>NaN</td>\n",
       "      <td>vigo-side-step-foot-board-for-sale-colombo</td>\n",
       "      <td>Vigo side step ( Foot board)</td>\n",
       "      <td>for_sale</td>\n",
       "      <td>Rs 47,000</td>\n",
       "      <td>04 Dec 2:47 pm</td>\n",
       "      <td>2022-12-04T14:47:27+05:30</td>\n",
       "      <td>2022-07-29T13:22:59.000Z</td>\n",
       "      <td>...</td>\n",
       "      <td>False</td>\n",
       "      <td>False</td>\n",
       "      <td>True</td>\n",
       "      <td>False</td>\n",
       "      <td>False</td>\n",
       "      <td>False</td>\n",
       "      <td>plus</td>\n",
       "      <td>February 2017</td>\n",
       "      <td>{'Condition': 'New', 'Part or Accessory Type':...</td>\n",
       "      <td>634d93e14a62d9de7b400ee3679ae1d5506f4252ff0580...</td>\n",
       "    </tr>\n",
       "    <tr>\n",
       "      <th>4</th>\n",
       "      <td>Vigo Dickey Door Garnish Cover  in Kottawa | i...</td>\n",
       "      <td>Hilux Vigo ( 2005, 2009 ) dickey door garnish set</td>\n",
       "      <td>NaN</td>\n",
       "      <td>vigo-dickey-door-garnish-cover-for-sale-colombo-1</td>\n",
       "      <td>Vigo Dickey Door Garnish Cover</td>\n",
       "      <td>for_sale</td>\n",
       "      <td>Rs 9,000</td>\n",
       "      <td>08 Dec 9:28 am</td>\n",
       "      <td>2022-12-08T09:28:04+05:30</td>\n",
       "      <td>2022-07-29T12:55:44.000Z</td>\n",
       "      <td>...</td>\n",
       "      <td>False</td>\n",
       "      <td>False</td>\n",
       "      <td>True</td>\n",
       "      <td>False</td>\n",
       "      <td>False</td>\n",
       "      <td>False</td>\n",
       "      <td>plus</td>\n",
       "      <td>February 2017</td>\n",
       "      <td>{'Condition': 'New', 'Part or Accessory Type':...</td>\n",
       "      <td>634d93e14a62d9de7b400ee3679ae1d5506f4252ff0580...</td>\n",
       "    </tr>\n",
       "  </tbody>\n",
       "</table>\n",
       "<p>5 rows × 26 columns</p>\n",
       "</div>"
      ],
      "text/plain": [
       "                                            ad_title  \\\n",
       "0     Nissan Tiida Alternator  in Maharagama | ikman   \n",
       "1              Axio 165 Tail Light  in Kotte | ikman   \n",
       "2     Axio 165 / 161 Head light  in Kotte | ikman.lk   \n",
       "3   Vigo side step ( Foot board)  in Kottawa | ikman   \n",
       "4  Vigo Dickey Door Garnish Cover  in Kottawa | i...   \n",
       "\n",
       "                                      ad_description details  \\\n",
       "0  **TISSA AUTO PARTS** Dealer of used Japanese m...     NaN   \n",
       "1  Imported from Japan \\n\\nRight side available \\...     NaN   \n",
       "2  Imported from Japan \\n\\nAuto focus headlight a...     NaN   \n",
       "3  Hilux Vigo side step\\nBrand New Thaiwan\\nGood ...     NaN   \n",
       "4  Hilux Vigo ( 2005, 2009 ) dickey door garnish set     NaN   \n",
       "\n",
       "                                                slug  \\\n",
       "0         nissan-tiida-alternator-for-sale-colombo-3   \n",
       "1            axio-165-tail-light-for-sale-colombo-14   \n",
       "2           axio-165-161-head-light-for-sale-colombo   \n",
       "3         vigo-side-step-foot-board-for-sale-colombo   \n",
       "4  vigo-dickey-door-garnish-cover-for-sale-colombo-1   \n",
       "\n",
       "                            title      type      price        timestamp  \\\n",
       "0         Nissan Tiida Alternator  for_sale  Rs 18,000  23 Feb 11:35 pm   \n",
       "1             Axio 165 Tail Light  for_sale  Rs 67,000   23 Feb 8:32 am   \n",
       "2       Axio 165 / 161 Head light  for_sale  Rs 85,000   01 Dec 8:27 pm   \n",
       "3    Vigo side step ( Foot board)  for_sale  Rs 47,000   04 Dec 2:47 pm   \n",
       "4  Vigo Dickey Door Garnish Cover  for_sale   Rs 9,000   08 Dec 9:28 am   \n",
       "\n",
       "                 posted_date         deactivation_date  ...  \\\n",
       "0  2023-02-23T23:35:10+05:30  2022-05-30T17:13:04.000Z  ...   \n",
       "1  2023-02-23T08:32:44+05:30  2022-03-31T16:27:59.000Z  ...   \n",
       "2  2022-12-01T20:27:49+05:30  2022-03-31T14:03:57.000Z  ...   \n",
       "3  2022-12-04T14:47:27+05:30  2022-07-29T13:22:59.000Z  ...   \n",
       "4  2022-12-08T09:28:04+05:30  2022-07-29T12:55:44.000Z  ...   \n",
       "\n",
       "  is_doorstep_delivery is_dsd_applicable is_member is_authorized_dealer  \\\n",
       "0                False             False      True                False   \n",
       "1                False             False      True                False   \n",
       "2                False             False      True                False   \n",
       "3                False             False      True                False   \n",
       "4                False             False      True                False   \n",
       "\n",
       "  is_featured_member  is_verified  membership_level    member_since  \\\n",
       "0              False         True           premium  September 2019   \n",
       "1              False         True              plus       June 2018   \n",
       "2              False         True              plus       June 2018   \n",
       "3              False        False              plus   February 2017   \n",
       "4              False        False              plus   February 2017   \n",
       "\n",
       "                                          properties  \\\n",
       "0  {'Condition': 'Reconditioned', 'Part or Access...   \n",
       "1  {'Condition': 'Reconditioned', 'Part or Access...   \n",
       "2  {'Condition': 'Reconditioned', 'Part or Access...   \n",
       "3  {'Condition': 'New', 'Part or Accessory Type':...   \n",
       "4  {'Condition': 'New', 'Part or Accessory Type':...   \n",
       "\n",
       "                                                user  \n",
       "0  a6681dea494390daa516a6d2bdcb36e08c318574a13413...  \n",
       "1  5d99b8e45a1bb318079da7a36392d9025e1644cb49ecbf...  \n",
       "2  5d99b8e45a1bb318079da7a36392d9025e1644cb49ecbf...  \n",
       "3  634d93e14a62d9de7b400ee3679ae1d5506f4252ff0580...  \n",
       "4  634d93e14a62d9de7b400ee3679ae1d5506f4252ff0580...  \n",
       "\n",
       "[5 rows x 26 columns]"
      ]
     },
     "execution_count": 6,
     "metadata": {},
     "output_type": "execute_result"
    }
   ],
   "source": [
    "df.head()"
   ]
  },
  {
   "cell_type": "code",
   "execution_count": 7,
   "id": "e6ffde5b-be7e-427e-9351-0dd94df64ae3",
   "metadata": {},
   "outputs": [
    {
     "data": {
      "text/plain": [
       "(258888, 26)"
      ]
     },
     "execution_count": 7,
     "metadata": {},
     "output_type": "execute_result"
    }
   ],
   "source": [
    "df.shape"
   ]
  },
  {
   "cell_type": "code",
   "execution_count": 8,
   "id": "295815e6-795c-4f35-9c14-2dce84af6c9e",
   "metadata": {},
   "outputs": [
    {
     "data": {
      "text/plain": [
       "Index(['ad_title', 'ad_description', 'details', 'slug', 'title', 'type',\n",
       "       'price', 'timestamp', 'posted_date', 'deactivation_date', 'category',\n",
       "       'parent_category', 'location', 'geo_region', 'area', 'is_delivery_free',\n",
       "       'is_doorstep_delivery', 'is_dsd_applicable', 'is_member',\n",
       "       'is_authorized_dealer', 'is_featured_member', 'is_verified',\n",
       "       'membership_level', 'member_since', 'properties', 'user'],\n",
       "      dtype='object')"
      ]
     },
     "execution_count": 8,
     "metadata": {},
     "output_type": "execute_result"
    }
   ],
   "source": [
    "df.columns"
   ]
  },
  {
   "cell_type": "code",
   "execution_count": 9,
   "id": "4630f23f-e678-45ca-945d-ea5e19f7d0f5",
   "metadata": {},
   "outputs": [
    {
     "name": "stdout",
     "output_type": "stream",
     "text": [
      "<class 'pandas.core.frame.DataFrame'>\n",
      "RangeIndex: 258888 entries, 0 to 258887\n",
      "Data columns (total 26 columns):\n",
      " #   Column                Non-Null Count   Dtype \n",
      "---  ------                --------------   ----- \n",
      " 0   ad_title              258888 non-null  object\n",
      " 1   ad_description        258881 non-null  object\n",
      " 2   details               155505 non-null  object\n",
      " 3   slug                  258888 non-null  object\n",
      " 4   title                 258888 non-null  object\n",
      " 5   type                  258888 non-null  object\n",
      " 6   price                 255077 non-null  object\n",
      " 7   timestamp             258882 non-null  object\n",
      " 8   posted_date           258882 non-null  object\n",
      " 9   deactivation_date     258882 non-null  object\n",
      " 10  category              258888 non-null  object\n",
      " 11  parent_category       258888 non-null  object\n",
      " 12  location              258888 non-null  object\n",
      " 13  geo_region            258888 non-null  object\n",
      " 14  area                  258888 non-null  object\n",
      " 15  is_delivery_free      258888 non-null  bool  \n",
      " 16  is_doorstep_delivery  258888 non-null  bool  \n",
      " 17  is_dsd_applicable     258888 non-null  bool  \n",
      " 18  is_member             249838 non-null  object\n",
      " 19  is_authorized_dealer  249838 non-null  object\n",
      " 20  is_featured_member    249838 non-null  object\n",
      " 21  is_verified           258888 non-null  bool  \n",
      " 22  membership_level      258888 non-null  object\n",
      " 23  member_since          108634 non-null  object\n",
      " 24  properties            258888 non-null  object\n",
      " 25  user                  258888 non-null  object\n",
      "dtypes: bool(4), object(22)\n",
      "memory usage: 44.4+ MB\n"
     ]
    }
   ],
   "source": [
    "df.info()"
   ]
  },
  {
   "cell_type": "code",
   "execution_count": 10,
   "id": "0bf34541-a9e6-4610-a87c-81a8ff794211",
   "metadata": {},
   "outputs": [
    {
     "data": {
      "text/plain": [
       "ad_title                     0\n",
       "ad_description               7\n",
       "details                 103383\n",
       "slug                         0\n",
       "title                        0\n",
       "type                         0\n",
       "price                     3811\n",
       "timestamp                    6\n",
       "posted_date                  6\n",
       "deactivation_date            6\n",
       "category                     0\n",
       "parent_category              0\n",
       "location                     0\n",
       "geo_region                   0\n",
       "area                         0\n",
       "is_delivery_free             0\n",
       "is_doorstep_delivery         0\n",
       "is_dsd_applicable            0\n",
       "is_member                 9050\n",
       "is_authorized_dealer      9050\n",
       "is_featured_member        9050\n",
       "is_verified                  0\n",
       "membership_level             0\n",
       "member_since            150254\n",
       "properties                   0\n",
       "user                         0\n",
       "dtype: int64"
      ]
     },
     "execution_count": 10,
     "metadata": {},
     "output_type": "execute_result"
    }
   ],
   "source": [
    "df.isnull().sum()"
   ]
  },
  {
   "cell_type": "code",
   "execution_count": 11,
   "id": "06cde7a7-304b-4284-9228-bd5a7407a7b9",
   "metadata": {},
   "outputs": [],
   "source": [
    "df=df.drop(['details','member_since'],axis=1)"
   ]
  },
  {
   "cell_type": "code",
   "execution_count": 12,
   "id": "4092d7cc-cc27-4ad1-91ab-169e3790c5ec",
   "metadata": {},
   "outputs": [
    {
     "data": {
      "text/plain": [
       "(258888, 24)"
      ]
     },
     "execution_count": 12,
     "metadata": {},
     "output_type": "execute_result"
    }
   ],
   "source": [
    "df.shape"
   ]
  },
  {
   "cell_type": "code",
   "execution_count": 13,
   "id": "6f8a192b-4923-48f5-ac62-c5088f20e3eb",
   "metadata": {},
   "outputs": [],
   "source": [
    "#dropping all remaining null values\n",
    "df=df.dropna()"
   ]
  },
  {
   "cell_type": "code",
   "execution_count": 14,
   "id": "7b5f8aa3-cccf-4618-9a02-1031117cc663",
   "metadata": {},
   "outputs": [
    {
     "data": {
      "text/plain": [
       "ad_title                0\n",
       "ad_description          0\n",
       "slug                    0\n",
       "title                   0\n",
       "type                    0\n",
       "price                   0\n",
       "timestamp               0\n",
       "posted_date             0\n",
       "deactivation_date       0\n",
       "category                0\n",
       "parent_category         0\n",
       "location                0\n",
       "geo_region              0\n",
       "area                    0\n",
       "is_delivery_free        0\n",
       "is_doorstep_delivery    0\n",
       "is_dsd_applicable       0\n",
       "is_member               0\n",
       "is_authorized_dealer    0\n",
       "is_featured_member      0\n",
       "is_verified             0\n",
       "membership_level        0\n",
       "properties              0\n",
       "user                    0\n",
       "dtype: int64"
      ]
     },
     "execution_count": 14,
     "metadata": {},
     "output_type": "execute_result"
    }
   ],
   "source": [
    "df.isnull().sum()"
   ]
  },
  {
   "cell_type": "code",
   "execution_count": 15,
   "id": "4dc1a49e-d010-4c17-89ed-58d573d4528f",
   "metadata": {},
   "outputs": [
    {
     "data": {
      "text/plain": [
       "array(['Auto Parts & Accessories', 'Cars', 'Auto Services', 'Rentals',\n",
       "       'Vans', 'Lorries & Trucks', 'Three Wheelers', 'Motorbikes',\n",
       "       'Buses', 'Heavy Duty', 'Tractors', 'Bicycles',\n",
       "       'Boats & Water Transport'], dtype=object)"
      ]
     },
     "execution_count": 15,
     "metadata": {},
     "output_type": "execute_result"
    }
   ],
   "source": [
    "df['category'].unique()    #checking of all unique category"
   ]
  },
  {
   "cell_type": "code",
   "execution_count": 16,
   "id": "17414c04-01d2-485e-9ce7-b647502bb1e7",
   "metadata": {},
   "outputs": [],
   "source": [
    "df1=df.drop(df[(df['category']=='Auto Parts & Accessories') | (df['category']=='Auto Services') | (df['category']=='Rentals')].index)\n",
    "\n",
    "\n",
    "#we can see there are 3 categories in that auto partes and accessories ,auto services and rentals are not vehicals so \n",
    "# we need to drop those data "
   ]
  },
  {
   "cell_type": "code",
   "execution_count": 17,
   "id": "0165f678-34b9-4299-be62-4320cdcdebc8",
   "metadata": {},
   "outputs": [
    {
     "data": {
      "text/plain": [
       "array(['Cars', 'Vans', 'Lorries & Trucks', 'Three Wheelers', 'Motorbikes',\n",
       "       'Buses', 'Heavy Duty', 'Tractors', 'Bicycles',\n",
       "       'Boats & Water Transport'], dtype=object)"
      ]
     },
     "execution_count": 17,
     "metadata": {},
     "output_type": "execute_result"
    }
   ],
   "source": [
    "df1['category'].unique()  # after cleaning that data"
   ]
  },
  {
   "cell_type": "code",
   "execution_count": 18,
   "id": "f02ac477-b0ff-4b25-ad42-1781a8a6e9b1",
   "metadata": {},
   "outputs": [
    {
     "data": {
      "text/plain": [
       "31      Rs 22,000,000\n",
       "1349    Rs 14,500,000\n",
       "1701    Rs 10,500,000\n",
       "1702     Rs 6,500,000\n",
       "1917    Rs 11,500,000\n",
       "Name: price, dtype: object"
      ]
     },
     "execution_count": 18,
     "metadata": {},
     "output_type": "execute_result"
    }
   ],
   "source": [
    "df1['price'].head()   # we can see our value are in Rs 9000 these types of form so we need to convert  these into float"
   ]
  },
  {
   "cell_type": "code",
   "execution_count": 19,
   "id": "e3fc13d4-0c70-46b6-8385-cbe75c0ab27d",
   "metadata": {},
   "outputs": [],
   "source": [
    "df1['price'] = df1['price'].str.replace('Rs ', '').str.replace(',', '')\n",
    "df1['price'] = df1['price'].apply(lambda x: np.nan if x == 'Negotiable' else float(x))"
   ]
  },
  {
   "cell_type": "code",
   "execution_count": 20,
   "id": "8553cb21-516c-4869-a28c-c6728e8b3641",
   "metadata": {},
   "outputs": [],
   "source": [
    "df=df.dropna() #again dropped null values"
   ]
  },
  {
   "cell_type": "code",
   "execution_count": 21,
   "id": "b44c0cfd-16f3-4a92-a1d4-5df9b597d93f",
   "metadata": {},
   "outputs": [
    {
     "data": {
      "text/plain": [
       "(246050, 24)"
      ]
     },
     "execution_count": 21,
     "metadata": {},
     "output_type": "execute_result"
    }
   ],
   "source": [
    "df.shape"
   ]
  },
  {
   "cell_type": "code",
   "execution_count": 22,
   "id": "ad823d77-933b-4228-aa86-ac942d748cd7",
   "metadata": {},
   "outputs": [],
   "source": [
    "df2=df1.drop(['ad_title','ad_description','parent_category','geo_region','location','slug','title','area','type','timestamp','posted_date','deactivation_date','user'],axis=1)\n",
    "\n",
    "# droped all irrelavent columns and not related data "
   ]
  },
  {
   "cell_type": "code",
   "execution_count": 23,
   "id": "0559b487-1e4e-4f55-9858-21de3f990034",
   "metadata": {},
   "outputs": [
    {
     "data": {
      "text/plain": [
       "array([\"{'Brand': 'Ssang Yong', 'Model': 'Rexton', 'Trim / Edition': 'Rexton Ultimate d/ca', 'Year of Manufacture': '2019', 'Condition': 'New', 'Transmission': 'Tiptronic', 'Body type': 'SUV / 4x4', 'Fuel type': 'Diesel', 'Engine capacity': '2,200 cc', 'Mileage': '0 km'}\",\n",
       "       \"{'Brand': 'Toyota', 'Model': 'CHR', 'Year of Manufacture': '2017', 'Condition': 'Reconditioned', 'Transmission': 'Tiptronic', 'Body type': 'CoupÃ©/Sports', 'Fuel type': 'Petrol', 'Engine capacity': '1,200 cc', 'Mileage': '9,000 km'}\",\n",
       "       \"{'Brand': 'Toyota', 'Model': 'Axio', 'Trim / Edition': 'Axio', 'Year of Manufacture': '2015', 'Condition': 'Reconditioned', 'Transmission': 'Automatic', 'Body type': 'Saloon', 'Fuel type': 'Hybrid', 'Engine capacity': '1,500 cc', 'Mileage': '24,000 km'}\",\n",
       "       ...,\n",
       "       \"{'Brand': 'Toyota', 'Model': 'Allion', 'Trim / Edition': '260', 'Year of Manufacture': '2009', 'Condition': 'Used', 'Transmission': 'Automatic', 'Body type': 'Saloon', 'Fuel type': 'Petrol', 'Engine capacity': '1,500 cc', 'Mileage': '219,000 km'}\",\n",
       "       \"{'Brand': 'Toyota', 'Model': 'Roomy', 'Trim / Edition': 'custom GS safety', 'Year of Manufacture': '2018', 'Condition': 'Used', 'Transmission': 'Automatic', 'Body type': 'Station wagon', 'Fuel type': 'Petrol', 'Engine capacity': '1,000 cc', 'Mileage': '30,000 km'}\",\n",
       "       \"{'Bike Type': 'Motorbikes', 'Condition': 'Used', 'Brand': 'TVS', 'Model': 'Star Sport', 'Trim / Edition': 'star sport', 'Year of Manufacture': '2007', 'Engine capacity': '125 cc', 'Mileage': '88,102 km'}\"],\n",
       "      dtype=object)"
      ]
     },
     "execution_count": 23,
     "metadata": {},
     "output_type": "execute_result"
    }
   ],
   "source": [
    "df2['properties'].unique()   # checked properties column"
   ]
  },
  {
   "cell_type": "code",
   "execution_count": 24,
   "id": "a356a514-c873-466c-b1da-9631c8748c01",
   "metadata": {},
   "outputs": [
    {
     "name": "stderr",
     "output_type": "stream",
     "text": [
      "C:\\Users\\Kuldeep\\AppData\\Local\\Temp\\ipykernel_16296\\3849696138.py:8: FutureWarning: Series.__getitem__ treating keys as positions is deprecated. In a future version, integer keys will always be treated as labels (consistent with DataFrame behavior). To access a value by position, use `ser.iloc[pos]`\n",
      "  dict_converted = ast.literal_eval(df2.iloc[i][-1])\n"
     ]
    }
   ],
   "source": [
    "Condition = []\n",
    "Brand = []\n",
    "Model = []\n",
    "Mileage = []\n",
    "\n",
    "\n",
    "for i in range(df2.shape[0]):\n",
    "    dict_converted = ast.literal_eval(df2.iloc[i][-1])\n",
    "    Condition.append(dict_converted['Condition'])\n",
    "\n",
    "    if 'Brand' not in dict_converted:\n",
    "        Brand.append('NaN')\n",
    "    else:\n",
    "        Brand.append(dict_converted['Brand'])\n",
    "\n",
    "    if 'Model' not in dict_converted:\n",
    "        Model.append('NaN')\n",
    "    else:\n",
    "        Model.append(dict_converted['Model'])\n",
    "\n",
    "    if 'Mileage' not in dict_converted:\n",
    "        Mileage.append(0)\n",
    "    else:\n",
    "        Mileage.append(dict_converted['Mileage'])\n",
    "\n",
    "# in this we collected all relavent data present in the \"properties\" column"
   ]
  },
  {
   "cell_type": "code",
   "execution_count": 25,
   "id": "63278d96-680b-4ebb-bb74-be6e81b23a5c",
   "metadata": {},
   "outputs": [],
   "source": [
    "df2['Condition']=Condition\n",
    "df2['Brand']=Brand\n",
    "df2['Mileage']=Mileage\n",
    "df2['Model']=Model\n",
    "\n",
    "#created new columns with all those value "
   ]
  },
  {
   "cell_type": "code",
   "execution_count": 26,
   "id": "c66e4f92-a145-4adf-918b-f7ff9083eb1d",
   "metadata": {},
   "outputs": [
    {
     "data": {
      "text/html": [
       "<div>\n",
       "<style scoped>\n",
       "    .dataframe tbody tr th:only-of-type {\n",
       "        vertical-align: middle;\n",
       "    }\n",
       "\n",
       "    .dataframe tbody tr th {\n",
       "        vertical-align: top;\n",
       "    }\n",
       "\n",
       "    .dataframe thead th {\n",
       "        text-align: right;\n",
       "    }\n",
       "</style>\n",
       "<table border=\"1\" class=\"dataframe\">\n",
       "  <thead>\n",
       "    <tr style=\"text-align: right;\">\n",
       "      <th></th>\n",
       "      <th>price</th>\n",
       "      <th>category</th>\n",
       "      <th>is_delivery_free</th>\n",
       "      <th>is_doorstep_delivery</th>\n",
       "      <th>is_dsd_applicable</th>\n",
       "      <th>is_member</th>\n",
       "      <th>is_authorized_dealer</th>\n",
       "      <th>is_featured_member</th>\n",
       "      <th>is_verified</th>\n",
       "      <th>membership_level</th>\n",
       "      <th>properties</th>\n",
       "      <th>Condition</th>\n",
       "      <th>Brand</th>\n",
       "      <th>Mileage</th>\n",
       "      <th>Model</th>\n",
       "    </tr>\n",
       "  </thead>\n",
       "  <tbody>\n",
       "    <tr>\n",
       "      <th>31</th>\n",
       "      <td>22000000.0</td>\n",
       "      <td>Cars</td>\n",
       "      <td>False</td>\n",
       "      <td>False</td>\n",
       "      <td>False</td>\n",
       "      <td>True</td>\n",
       "      <td>False</td>\n",
       "      <td>False</td>\n",
       "      <td>True</td>\n",
       "      <td>plus</td>\n",
       "      <td>{'Brand': 'Ssang Yong', 'Model': 'Rexton', 'Tr...</td>\n",
       "      <td>New</td>\n",
       "      <td>Ssang Yong</td>\n",
       "      <td>0 km</td>\n",
       "      <td>Rexton</td>\n",
       "    </tr>\n",
       "    <tr>\n",
       "      <th>1349</th>\n",
       "      <td>14500000.0</td>\n",
       "      <td>Cars</td>\n",
       "      <td>False</td>\n",
       "      <td>False</td>\n",
       "      <td>False</td>\n",
       "      <td>True</td>\n",
       "      <td>False</td>\n",
       "      <td>False</td>\n",
       "      <td>True</td>\n",
       "      <td>premium</td>\n",
       "      <td>{'Brand': 'Toyota', 'Model': 'CHR', 'Year of M...</td>\n",
       "      <td>Reconditioned</td>\n",
       "      <td>Toyota</td>\n",
       "      <td>9,000 km</td>\n",
       "      <td>CHR</td>\n",
       "    </tr>\n",
       "    <tr>\n",
       "      <th>1701</th>\n",
       "      <td>10500000.0</td>\n",
       "      <td>Cars</td>\n",
       "      <td>False</td>\n",
       "      <td>False</td>\n",
       "      <td>False</td>\n",
       "      <td>True</td>\n",
       "      <td>False</td>\n",
       "      <td>False</td>\n",
       "      <td>True</td>\n",
       "      <td>premium</td>\n",
       "      <td>{'Brand': 'Toyota', 'Model': 'Axio', 'Trim / E...</td>\n",
       "      <td>Reconditioned</td>\n",
       "      <td>Toyota</td>\n",
       "      <td>24,000 km</td>\n",
       "      <td>Axio</td>\n",
       "    </tr>\n",
       "    <tr>\n",
       "      <th>1702</th>\n",
       "      <td>6500000.0</td>\n",
       "      <td>Cars</td>\n",
       "      <td>False</td>\n",
       "      <td>False</td>\n",
       "      <td>False</td>\n",
       "      <td>True</td>\n",
       "      <td>False</td>\n",
       "      <td>False</td>\n",
       "      <td>True</td>\n",
       "      <td>plus</td>\n",
       "      <td>{'Brand': 'Daihatsu', 'Model': 'Atrai Wagon', ...</td>\n",
       "      <td>Reconditioned</td>\n",
       "      <td>Daihatsu</td>\n",
       "      <td>55,000 km</td>\n",
       "      <td>Atrai Wagon</td>\n",
       "    </tr>\n",
       "    <tr>\n",
       "      <th>1917</th>\n",
       "      <td>11500000.0</td>\n",
       "      <td>Cars</td>\n",
       "      <td>False</td>\n",
       "      <td>False</td>\n",
       "      <td>False</td>\n",
       "      <td>True</td>\n",
       "      <td>False</td>\n",
       "      <td>False</td>\n",
       "      <td>True</td>\n",
       "      <td>plus</td>\n",
       "      <td>{'Brand': 'Mercedes Benz', 'Model': 'C180', 'Y...</td>\n",
       "      <td>Used</td>\n",
       "      <td>Mercedes Benz</td>\n",
       "      <td>137,000 km</td>\n",
       "      <td>C180</td>\n",
       "    </tr>\n",
       "    <tr>\n",
       "      <th>...</th>\n",
       "      <td>...</td>\n",
       "      <td>...</td>\n",
       "      <td>...</td>\n",
       "      <td>...</td>\n",
       "      <td>...</td>\n",
       "      <td>...</td>\n",
       "      <td>...</td>\n",
       "      <td>...</td>\n",
       "      <td>...</td>\n",
       "      <td>...</td>\n",
       "      <td>...</td>\n",
       "      <td>...</td>\n",
       "      <td>...</td>\n",
       "      <td>...</td>\n",
       "      <td>...</td>\n",
       "    </tr>\n",
       "    <tr>\n",
       "      <th>258881</th>\n",
       "      <td>12985000.0</td>\n",
       "      <td>Cars</td>\n",
       "      <td>False</td>\n",
       "      <td>False</td>\n",
       "      <td>False</td>\n",
       "      <td>False</td>\n",
       "      <td>False</td>\n",
       "      <td>False</td>\n",
       "      <td>False</td>\n",
       "      <td>free</td>\n",
       "      <td>{'Brand': 'Toyota', 'Model': 'CHR', 'Trim / Ed...</td>\n",
       "      <td>Used</td>\n",
       "      <td>Toyota</td>\n",
       "      <td>43,000 km</td>\n",
       "      <td>CHR</td>\n",
       "    </tr>\n",
       "    <tr>\n",
       "      <th>258883</th>\n",
       "      <td>1030000.0</td>\n",
       "      <td>Cars</td>\n",
       "      <td>False</td>\n",
       "      <td>False</td>\n",
       "      <td>False</td>\n",
       "      <td>False</td>\n",
       "      <td>False</td>\n",
       "      <td>False</td>\n",
       "      <td>False</td>\n",
       "      <td>free</td>\n",
       "      <td>{'Brand': 'Nissan', 'Model': 'March', 'Trim / ...</td>\n",
       "      <td>Used</td>\n",
       "      <td>Nissan</td>\n",
       "      <td>140,000 km</td>\n",
       "      <td>March</td>\n",
       "    </tr>\n",
       "    <tr>\n",
       "      <th>258884</th>\n",
       "      <td>3550000.0</td>\n",
       "      <td>Cars</td>\n",
       "      <td>False</td>\n",
       "      <td>False</td>\n",
       "      <td>False</td>\n",
       "      <td>False</td>\n",
       "      <td>False</td>\n",
       "      <td>False</td>\n",
       "      <td>False</td>\n",
       "      <td>free</td>\n",
       "      <td>{'Brand': 'Toyota', 'Model': 'Allion', 'Trim /...</td>\n",
       "      <td>Used</td>\n",
       "      <td>Toyota</td>\n",
       "      <td>219,000 km</td>\n",
       "      <td>Allion</td>\n",
       "    </tr>\n",
       "    <tr>\n",
       "      <th>258886</th>\n",
       "      <td>7250000.0</td>\n",
       "      <td>Cars</td>\n",
       "      <td>False</td>\n",
       "      <td>False</td>\n",
       "      <td>False</td>\n",
       "      <td>True</td>\n",
       "      <td>False</td>\n",
       "      <td>False</td>\n",
       "      <td>False</td>\n",
       "      <td>premium</td>\n",
       "      <td>{'Brand': 'Toyota', 'Model': 'Roomy', 'Trim / ...</td>\n",
       "      <td>Used</td>\n",
       "      <td>Toyota</td>\n",
       "      <td>30,000 km</td>\n",
       "      <td>Roomy</td>\n",
       "    </tr>\n",
       "    <tr>\n",
       "      <th>258887</th>\n",
       "      <td>135000.0</td>\n",
       "      <td>Motorbikes</td>\n",
       "      <td>False</td>\n",
       "      <td>False</td>\n",
       "      <td>False</td>\n",
       "      <td>False</td>\n",
       "      <td>False</td>\n",
       "      <td>False</td>\n",
       "      <td>False</td>\n",
       "      <td>free</td>\n",
       "      <td>{'Bike Type': 'Motorbikes', 'Condition': 'Used...</td>\n",
       "      <td>Used</td>\n",
       "      <td>TVS</td>\n",
       "      <td>88,102 km</td>\n",
       "      <td>Star Sport</td>\n",
       "    </tr>\n",
       "  </tbody>\n",
       "</table>\n",
       "<p>162833 rows × 15 columns</p>\n",
       "</div>"
      ],
      "text/plain": [
       "             price    category  is_delivery_free  is_doorstep_delivery  \\\n",
       "31      22000000.0        Cars             False                 False   \n",
       "1349    14500000.0        Cars             False                 False   \n",
       "1701    10500000.0        Cars             False                 False   \n",
       "1702     6500000.0        Cars             False                 False   \n",
       "1917    11500000.0        Cars             False                 False   \n",
       "...            ...         ...               ...                   ...   \n",
       "258881  12985000.0        Cars             False                 False   \n",
       "258883   1030000.0        Cars             False                 False   \n",
       "258884   3550000.0        Cars             False                 False   \n",
       "258886   7250000.0        Cars             False                 False   \n",
       "258887    135000.0  Motorbikes             False                 False   \n",
       "\n",
       "        is_dsd_applicable is_member is_authorized_dealer is_featured_member  \\\n",
       "31                  False      True                False              False   \n",
       "1349                False      True                False              False   \n",
       "1701                False      True                False              False   \n",
       "1702                False      True                False              False   \n",
       "1917                False      True                False              False   \n",
       "...                   ...       ...                  ...                ...   \n",
       "258881              False     False                False              False   \n",
       "258883              False     False                False              False   \n",
       "258884              False     False                False              False   \n",
       "258886              False      True                False              False   \n",
       "258887              False     False                False              False   \n",
       "\n",
       "        is_verified membership_level  \\\n",
       "31             True             plus   \n",
       "1349           True          premium   \n",
       "1701           True          premium   \n",
       "1702           True             plus   \n",
       "1917           True             plus   \n",
       "...             ...              ...   \n",
       "258881        False             free   \n",
       "258883        False             free   \n",
       "258884        False             free   \n",
       "258886        False          premium   \n",
       "258887        False             free   \n",
       "\n",
       "                                               properties      Condition  \\\n",
       "31      {'Brand': 'Ssang Yong', 'Model': 'Rexton', 'Tr...            New   \n",
       "1349    {'Brand': 'Toyota', 'Model': 'CHR', 'Year of M...  Reconditioned   \n",
       "1701    {'Brand': 'Toyota', 'Model': 'Axio', 'Trim / E...  Reconditioned   \n",
       "1702    {'Brand': 'Daihatsu', 'Model': 'Atrai Wagon', ...  Reconditioned   \n",
       "1917    {'Brand': 'Mercedes Benz', 'Model': 'C180', 'Y...           Used   \n",
       "...                                                   ...            ...   \n",
       "258881  {'Brand': 'Toyota', 'Model': 'CHR', 'Trim / Ed...           Used   \n",
       "258883  {'Brand': 'Nissan', 'Model': 'March', 'Trim / ...           Used   \n",
       "258884  {'Brand': 'Toyota', 'Model': 'Allion', 'Trim /...           Used   \n",
       "258886  {'Brand': 'Toyota', 'Model': 'Roomy', 'Trim / ...           Used   \n",
       "258887  {'Bike Type': 'Motorbikes', 'Condition': 'Used...           Used   \n",
       "\n",
       "                Brand     Mileage        Model  \n",
       "31         Ssang Yong        0 km       Rexton  \n",
       "1349           Toyota    9,000 km          CHR  \n",
       "1701           Toyota   24,000 km         Axio  \n",
       "1702         Daihatsu   55,000 km  Atrai Wagon  \n",
       "1917    Mercedes Benz  137,000 km         C180  \n",
       "...               ...         ...          ...  \n",
       "258881         Toyota   43,000 km          CHR  \n",
       "258883         Nissan  140,000 km        March  \n",
       "258884         Toyota  219,000 km       Allion  \n",
       "258886         Toyota   30,000 km        Roomy  \n",
       "258887            TVS   88,102 km   Star Sport  \n",
       "\n",
       "[162833 rows x 15 columns]"
      ]
     },
     "execution_count": 26,
     "metadata": {},
     "output_type": "execute_result"
    }
   ],
   "source": [
    "df2"
   ]
  },
  {
   "cell_type": "code",
   "execution_count": 27,
   "id": "43bbe76f-ddf7-4424-a24c-f8be7a2bba56",
   "metadata": {},
   "outputs": [],
   "source": [
    "df2=df2.drop(['properties'],axis=1)   # droped properties column because we collected data from proeprties"
   ]
  },
  {
   "cell_type": "code",
   "execution_count": 28,
   "id": "06db3e89-bf20-46f6-9fe2-838bd356c557",
   "metadata": {},
   "outputs": [],
   "source": [
    "df2['Mileage'] = df2['Mileage'].str.replace(' km', '').str.replace(',', '')     \n",
    "# in mileage we have values with km so we change km to ''"
   ]
  },
  {
   "cell_type": "code",
   "execution_count": 29,
   "id": "195c34b3-0a3a-4ccf-a549-6068aea1a5ce",
   "metadata": {},
   "outputs": [],
   "source": [
    "df2['Mileage']=df2['Mileage'].astype(float)   # converted mileage column to float\n"
   ]
  },
  {
   "cell_type": "code",
   "execution_count": 30,
   "id": "587efff0-571f-43bd-89bf-55172c80da6a",
   "metadata": {},
   "outputs": [],
   "source": [
    "# dropped unneccesary columns\n",
    "df3=df2.drop(['is_delivery_free','is_doorstep_delivery','is_dsd_applicable','is_member','is_authorized_dealer','is_featured_member','is_verified','membership_level'],axis=1)"
   ]
  },
  {
   "cell_type": "code",
   "execution_count": 31,
   "id": "44d3e3ff-cdab-4bb4-943c-83b0b0b757e1",
   "metadata": {},
   "outputs": [],
   "source": [
    "s=df3['Mileage'].median()  #we get median of mileage"
   ]
  },
  {
   "cell_type": "code",
   "execution_count": 32,
   "id": "077b3845-a5b2-4fda-837b-cce256bf1483",
   "metadata": {},
   "outputs": [
    {
     "data": {
      "text/html": [
       "<div>\n",
       "<style scoped>\n",
       "    .dataframe tbody tr th:only-of-type {\n",
       "        vertical-align: middle;\n",
       "    }\n",
       "\n",
       "    .dataframe tbody tr th {\n",
       "        vertical-align: top;\n",
       "    }\n",
       "\n",
       "    .dataframe thead th {\n",
       "        text-align: right;\n",
       "    }\n",
       "</style>\n",
       "<table border=\"1\" class=\"dataframe\">\n",
       "  <thead>\n",
       "    <tr style=\"text-align: right;\">\n",
       "      <th></th>\n",
       "      <th>price</th>\n",
       "      <th>category</th>\n",
       "      <th>Condition</th>\n",
       "      <th>Brand</th>\n",
       "      <th>Mileage</th>\n",
       "      <th>Model</th>\n",
       "    </tr>\n",
       "  </thead>\n",
       "  <tbody>\n",
       "    <tr>\n",
       "      <th>31</th>\n",
       "      <td>22000000.0</td>\n",
       "      <td>Cars</td>\n",
       "      <td>New</td>\n",
       "      <td>Ssang Yong</td>\n",
       "      <td>0.0</td>\n",
       "      <td>Rexton</td>\n",
       "    </tr>\n",
       "    <tr>\n",
       "      <th>1349</th>\n",
       "      <td>14500000.0</td>\n",
       "      <td>Cars</td>\n",
       "      <td>Reconditioned</td>\n",
       "      <td>Toyota</td>\n",
       "      <td>9000.0</td>\n",
       "      <td>CHR</td>\n",
       "    </tr>\n",
       "    <tr>\n",
       "      <th>1701</th>\n",
       "      <td>10500000.0</td>\n",
       "      <td>Cars</td>\n",
       "      <td>Reconditioned</td>\n",
       "      <td>Toyota</td>\n",
       "      <td>24000.0</td>\n",
       "      <td>Axio</td>\n",
       "    </tr>\n",
       "    <tr>\n",
       "      <th>1702</th>\n",
       "      <td>6500000.0</td>\n",
       "      <td>Cars</td>\n",
       "      <td>Reconditioned</td>\n",
       "      <td>Daihatsu</td>\n",
       "      <td>55000.0</td>\n",
       "      <td>Atrai Wagon</td>\n",
       "    </tr>\n",
       "    <tr>\n",
       "      <th>1917</th>\n",
       "      <td>11500000.0</td>\n",
       "      <td>Cars</td>\n",
       "      <td>Used</td>\n",
       "      <td>Mercedes Benz</td>\n",
       "      <td>137000.0</td>\n",
       "      <td>C180</td>\n",
       "    </tr>\n",
       "  </tbody>\n",
       "</table>\n",
       "</div>"
      ],
      "text/plain": [
       "           price category      Condition          Brand   Mileage        Model\n",
       "31    22000000.0     Cars            New     Ssang Yong       0.0       Rexton\n",
       "1349  14500000.0     Cars  Reconditioned         Toyota    9000.0          CHR\n",
       "1701  10500000.0     Cars  Reconditioned         Toyota   24000.0         Axio\n",
       "1702   6500000.0     Cars  Reconditioned       Daihatsu   55000.0  Atrai Wagon\n",
       "1917  11500000.0     Cars           Used  Mercedes Benz  137000.0         C180"
      ]
     },
     "execution_count": 32,
     "metadata": {},
     "output_type": "execute_result"
    }
   ],
   "source": [
    "df3.head()"
   ]
  },
  {
   "cell_type": "code",
   "execution_count": 33,
   "id": "f7608563-b021-4d79-82b6-b519a5ccbacf",
   "metadata": {},
   "outputs": [
    {
     "name": "stdout",
     "output_type": "stream",
     "text": [
      "<class 'pandas.core.frame.DataFrame'>\n",
      "Index: 162833 entries, 31 to 258887\n",
      "Data columns (total 6 columns):\n",
      " #   Column     Non-Null Count   Dtype  \n",
      "---  ------     --------------   -----  \n",
      " 0   price      162821 non-null  float64\n",
      " 1   category   162833 non-null  object \n",
      " 2   Condition  162833 non-null  object \n",
      " 3   Brand      162833 non-null  object \n",
      " 4   Mileage    147603 non-null  float64\n",
      " 5   Model      162833 non-null  object \n",
      "dtypes: float64(2), object(4)\n",
      "memory usage: 8.7+ MB\n"
     ]
    }
   ],
   "source": [
    "df3.info()"
   ]
  },
  {
   "cell_type": "code",
   "execution_count": 34,
   "id": "afdcfd6a-6422-4863-9fc1-293f5e5df7b4",
   "metadata": {},
   "outputs": [],
   "source": [
    "df3['Mileage']=df3['Mileage'].fillna(s)   # we replace null values with median"
   ]
  },
  {
   "cell_type": "code",
   "execution_count": 35,
   "id": "be9ead83-847e-4ec9-a580-9dbc5ee54e5d",
   "metadata": {},
   "outputs": [
    {
     "data": {
      "text/plain": [
       "price        12\n",
       "category      0\n",
       "Condition     0\n",
       "Brand         0\n",
       "Mileage       0\n",
       "Model         0\n",
       "dtype: int64"
      ]
     },
     "execution_count": 35,
     "metadata": {},
     "output_type": "execute_result"
    }
   ],
   "source": [
    "df3.isnull().sum()  #then we check all null values again"
   ]
  },
  {
   "cell_type": "code",
   "execution_count": 36,
   "id": "efadd4cd-9371-4841-8243-d0a76df47d1b",
   "metadata": {},
   "outputs": [],
   "source": [
    "from sklearn.preprocessing import LabelEncoder\n",
    "import pandas as pd\n",
    "\n",
    "# Assuming df3 is already loaded with 162,821 rows\n",
    "\n",
    "# List of columns to encode\n",
    "columns_to_encode = ['category', 'Condition', 'Brand', 'Mileage', 'Model']\n",
    "\n",
    "# Instantiate the LabelEncoder\n",
    "encoder = LabelEncoder()\n",
    "\n",
    "# Apply LabelEncoder to the columns in the list using .loc to avoid SettingWithCopyWarning\n",
    "for column in columns_to_encode:\n",
    "    df3.loc[:, column] = encoder.fit_transform(df3[column])\n",
    "\n",
    "# Output the transformed dataframe (if needed)\n",
    "# print(df3.head())"
   ]
  },
  {
   "cell_type": "code",
   "execution_count": 37,
   "id": "8332bcad-2d0d-4fbc-9a8f-cc02710cc2f7",
   "metadata": {},
   "outputs": [
    {
     "data": {
      "text/html": [
       "<div>\n",
       "<style scoped>\n",
       "    .dataframe tbody tr th:only-of-type {\n",
       "        vertical-align: middle;\n",
       "    }\n",
       "\n",
       "    .dataframe tbody tr th {\n",
       "        vertical-align: top;\n",
       "    }\n",
       "\n",
       "    .dataframe thead th {\n",
       "        text-align: right;\n",
       "    }\n",
       "</style>\n",
       "<table border=\"1\" class=\"dataframe\">\n",
       "  <thead>\n",
       "    <tr style=\"text-align: right;\">\n",
       "      <th></th>\n",
       "      <th>price</th>\n",
       "      <th>category</th>\n",
       "      <th>Condition</th>\n",
       "      <th>Brand</th>\n",
       "      <th>Mileage</th>\n",
       "      <th>Model</th>\n",
       "    </tr>\n",
       "  </thead>\n",
       "  <tbody>\n",
       "    <tr>\n",
       "      <th>31</th>\n",
       "      <td>22000000.0</td>\n",
       "      <td>3</td>\n",
       "      <td>0</td>\n",
       "      <td>119</td>\n",
       "      <td>0.0</td>\n",
       "      <td>678</td>\n",
       "    </tr>\n",
       "    <tr>\n",
       "      <th>1349</th>\n",
       "      <td>14500000.0</td>\n",
       "      <td>3</td>\n",
       "      <td>1</td>\n",
       "      <td>128</td>\n",
       "      <td>972.0</td>\n",
       "      <td>198</td>\n",
       "    </tr>\n",
       "    <tr>\n",
       "      <th>1701</th>\n",
       "      <td>10500000.0</td>\n",
       "      <td>3</td>\n",
       "      <td>1</td>\n",
       "      <td>128</td>\n",
       "      <td>3504.0</td>\n",
       "      <td>141</td>\n",
       "    </tr>\n",
       "    <tr>\n",
       "      <th>1702</th>\n",
       "      <td>6500000.0</td>\n",
       "      <td>3</td>\n",
       "      <td>1</td>\n",
       "      <td>26</td>\n",
       "      <td>9493.0</td>\n",
       "      <td>125</td>\n",
       "    </tr>\n",
       "    <tr>\n",
       "      <th>1917</th>\n",
       "      <td>11500000.0</td>\n",
       "      <td>3</td>\n",
       "      <td>2</td>\n",
       "      <td>82</td>\n",
       "      <td>15028.0</td>\n",
       "      <td>174</td>\n",
       "    </tr>\n",
       "    <tr>\n",
       "      <th>...</th>\n",
       "      <td>...</td>\n",
       "      <td>...</td>\n",
       "      <td>...</td>\n",
       "      <td>...</td>\n",
       "      <td>...</td>\n",
       "      <td>...</td>\n",
       "    </tr>\n",
       "    <tr>\n",
       "      <th>258881</th>\n",
       "      <td>12985000.0</td>\n",
       "      <td>3</td>\n",
       "      <td>2</td>\n",
       "      <td>128</td>\n",
       "      <td>7344.0</td>\n",
       "      <td>198</td>\n",
       "    </tr>\n",
       "    <tr>\n",
       "      <th>258883</th>\n",
       "      <td>1030000.0</td>\n",
       "      <td>3</td>\n",
       "      <td>2</td>\n",
       "      <td>92</td>\n",
       "      <td>15123.0</td>\n",
       "      <td>546</td>\n",
       "    </tr>\n",
       "    <tr>\n",
       "      <th>258884</th>\n",
       "      <td>3550000.0</td>\n",
       "      <td>3</td>\n",
       "      <td>2</td>\n",
       "      <td>128</td>\n",
       "      <td>17008.0</td>\n",
       "      <td>112</td>\n",
       "    </tr>\n",
       "    <tr>\n",
       "      <th>258886</th>\n",
       "      <td>7250000.0</td>\n",
       "      <td>3</td>\n",
       "      <td>2</td>\n",
       "      <td>128</td>\n",
       "      <td>4873.0</td>\n",
       "      <td>687</td>\n",
       "    </tr>\n",
       "    <tr>\n",
       "      <th>258887</th>\n",
       "      <td>135000.0</td>\n",
       "      <td>6</td>\n",
       "      <td>2</td>\n",
       "      <td>124</td>\n",
       "      <td>12767.0</td>\n",
       "      <td>764</td>\n",
       "    </tr>\n",
       "  </tbody>\n",
       "</table>\n",
       "<p>162833 rows × 6 columns</p>\n",
       "</div>"
      ],
      "text/plain": [
       "             price category Condition Brand  Mileage Model\n",
       "31      22000000.0        3         0   119      0.0   678\n",
       "1349    14500000.0        3         1   128    972.0   198\n",
       "1701    10500000.0        3         1   128   3504.0   141\n",
       "1702     6500000.0        3         1    26   9493.0   125\n",
       "1917    11500000.0        3         2    82  15028.0   174\n",
       "...            ...      ...       ...   ...      ...   ...\n",
       "258881  12985000.0        3         2   128   7344.0   198\n",
       "258883   1030000.0        3         2    92  15123.0   546\n",
       "258884   3550000.0        3         2   128  17008.0   112\n",
       "258886   7250000.0        3         2   128   4873.0   687\n",
       "258887    135000.0        6         2   124  12767.0   764\n",
       "\n",
       "[162833 rows x 6 columns]"
      ]
     },
     "execution_count": 37,
     "metadata": {},
     "output_type": "execute_result"
    }
   ],
   "source": [
    "df3"
   ]
  },
  {
   "cell_type": "code",
   "execution_count": 38,
   "id": "6a5d1655-35e8-4d78-bb9d-17645fce8746",
   "metadata": {},
   "outputs": [
    {
     "name": "stdout",
     "output_type": "stream",
     "text": [
      "<class 'pandas.core.frame.DataFrame'>\n",
      "Index: 162833 entries, 31 to 258887\n",
      "Data columns (total 6 columns):\n",
      " #   Column     Non-Null Count   Dtype  \n",
      "---  ------     --------------   -----  \n",
      " 0   price      162821 non-null  float64\n",
      " 1   category   162833 non-null  object \n",
      " 2   Condition  162833 non-null  object \n",
      " 3   Brand      162833 non-null  object \n",
      " 4   Mileage    162833 non-null  float64\n",
      " 5   Model      162833 non-null  object \n",
      "dtypes: float64(2), object(4)\n",
      "memory usage: 8.7+ MB\n"
     ]
    }
   ],
   "source": [
    "df3.info()"
   ]
  },
  {
   "cell_type": "code",
   "execution_count": 43,
   "id": "9d2028de-2438-4df6-aed2-7fe08a683e58",
   "metadata": {},
   "outputs": [
    {
     "name": "stderr",
     "output_type": "stream",
     "text": [
      "C:\\Users\\Kuldeep\\anaconda3\\Lib\\site-packages\\sklearn\\cluster\\_kmeans.py:870: FutureWarning: The default value of `n_init` will change from 10 to 'auto' in 1.4. Set the value of `n_init` explicitly to suppress the warning\n",
      "  warnings.warn(\n",
      "C:\\Users\\Kuldeep\\anaconda3\\Lib\\site-packages\\sklearn\\cluster\\_kmeans.py:870: FutureWarning: The default value of `n_init` will change from 10 to 'auto' in 1.4. Set the value of `n_init` explicitly to suppress the warning\n",
      "  warnings.warn(\n",
      "C:\\Users\\Kuldeep\\anaconda3\\Lib\\site-packages\\sklearn\\cluster\\_kmeans.py:870: FutureWarning: The default value of `n_init` will change from 10 to 'auto' in 1.4. Set the value of `n_init` explicitly to suppress the warning\n",
      "  warnings.warn(\n",
      "C:\\Users\\Kuldeep\\anaconda3\\Lib\\site-packages\\sklearn\\cluster\\_kmeans.py:870: FutureWarning: The default value of `n_init` will change from 10 to 'auto' in 1.4. Set the value of `n_init` explicitly to suppress the warning\n",
      "  warnings.warn(\n",
      "C:\\Users\\Kuldeep\\anaconda3\\Lib\\site-packages\\sklearn\\cluster\\_kmeans.py:870: FutureWarning: The default value of `n_init` will change from 10 to 'auto' in 1.4. Set the value of `n_init` explicitly to suppress the warning\n",
      "  warnings.warn(\n",
      "C:\\Users\\Kuldeep\\anaconda3\\Lib\\site-packages\\sklearn\\cluster\\_kmeans.py:870: FutureWarning: The default value of `n_init` will change from 10 to 'auto' in 1.4. Set the value of `n_init` explicitly to suppress the warning\n",
      "  warnings.warn(\n",
      "C:\\Users\\Kuldeep\\anaconda3\\Lib\\site-packages\\sklearn\\cluster\\_kmeans.py:870: FutureWarning: The default value of `n_init` will change from 10 to 'auto' in 1.4. Set the value of `n_init` explicitly to suppress the warning\n",
      "  warnings.warn(\n",
      "C:\\Users\\Kuldeep\\anaconda3\\Lib\\site-packages\\sklearn\\cluster\\_kmeans.py:870: FutureWarning: The default value of `n_init` will change from 10 to 'auto' in 1.4. Set the value of `n_init` explicitly to suppress the warning\n",
      "  warnings.warn(\n",
      "C:\\Users\\Kuldeep\\anaconda3\\Lib\\site-packages\\sklearn\\cluster\\_kmeans.py:870: FutureWarning: The default value of `n_init` will change from 10 to 'auto' in 1.4. Set the value of `n_init` explicitly to suppress the warning\n",
      "  warnings.warn(\n",
      "C:\\Users\\Kuldeep\\anaconda3\\Lib\\site-packages\\sklearn\\cluster\\_kmeans.py:870: FutureWarning: The default value of `n_init` will change from 10 to 'auto' in 1.4. Set the value of `n_init` explicitly to suppress the warning\n",
      "  warnings.warn(\n"
     ]
    },
    {
     "data": {
      "image/png": "[encoded data removed]",
      "text/plain": [
       "<Figure size 1000x500 with 2 Axes>"
      ]
     },
     "metadata": {},
     "output_type": "display_data"
    },
    {
     "name": "stderr",
     "output_type": "stream",
     "text": [
      "C:\\Users\\Kuldeep\\anaconda3\\Lib\\site-packages\\sklearn\\cluster\\_kmeans.py:870: FutureWarning: The default value of `n_init` will change from 10 to 'auto' in 1.4. Set the value of `n_init` explicitly to suppress the warning\n",
      "  warnings.warn(\n"
     ]
    },
    {
     "data": {
      "image/png": "[encoded data removed]",
      "text/plain": [
       "<Figure size 800x600 with 2 Axes>"
      ]
     },
     "metadata": {},
     "output_type": "display_data"
    }
   ],
   "source": [
    "from sklearn.preprocessing import StandardScaler\n",
    "from sklearn.cluster import KMeans\n",
    "from sklearn.metrics import silhouette_score\n",
    "import matplotlib.pyplot as plt\n",
    "\n",
    "# Initialize the StandardScaler\n",
    "scaler = StandardScaler()\n",
    "\n",
    "# Take a random sample of 10% of the data\n",
    "sample_df = df3.sample(frac=0.1, random_state=42)\n",
    "\n",
    "# Standardize the sample features\n",
    "features_sample = sample_df[['category', 'Condition', 'Brand', 'Mileage', 'Model']]\n",
    "features_scaled_sample = scaler.fit_transform(features_sample)\n",
    "\n",
    "# Elbow Method to determine the optimal number of clusters\n",
    "inertia = []  # To store inertia values\n",
    "silhouette_scores = []  # To store silhouette scores\n",
    "\n",
    "# Experiment with 1 to 10 clusters\n",
    "for n_clusters in range(1, 11):\n",
    "    kmeans = KMeans(n_clusters=n_clusters, random_state=42)\n",
    "    kmeans.fit(features_scaled_sample)\n",
    "    inertia.append(kmeans.inertia_)\n",
    "    \n",
    "    if n_clusters > 1:\n",
    "        silhouette_scores.append(silhouette_score(features_scaled_sample, kmeans.labels_))\n",
    "\n",
    "# Plot the Elbow Method\n",
    "plt.figure(figsize=(10, 5))\n",
    "plt.subplot(1, 2, 1)\n",
    "plt.plot(range(1, 11), inertia, marker='o')\n",
    "plt.title('Elbow Method for Optimal Clusters')\n",
    "plt.xlabel('Number of Clusters')\n",
    "plt.ylabel('Inertia')\n",
    "\n",
    "# Plot the Silhouette Scores\n",
    "plt.subplot(1, 2, 2)\n",
    "plt.plot(range(2, 11), silhouette_scores, marker='o', color='green')\n",
    "plt.title('Silhouette Score for Clustering')\n",
    "plt.xlabel('Number of Clusters')\n",
    "plt.ylabel('Silhouette Score')\n",
    "\n",
    "plt.tight_layout()\n",
    "plt.show()\n",
    "\n",
    "# Choose the optimal number of clusters (from the plots)\n",
    "optimal_clusters = 4  # Use the optimal value chosen from the elbow and silhouette score plots\n",
    "\n",
    "# Apply K-means with the optimal number of clusters\n",
    "kmeans_sample = KMeans(n_clusters=optimal_clusters, random_state=42)\n",
    "sample_df['Cluster'] = kmeans_sample.fit_predict(features_scaled_sample)\n",
    "\n",
    "# Visualize the clusters in the sample (using 'Mileage' and 'price' for visualization)\n",
    "plt.figure(figsize=(8, 6))\n",
    "plt.scatter(sample_df['Mileage'], sample_df['price'], c=sample_df['Cluster'], cmap='viridis')\n",
    "plt.title(f'K-means Clustering on Sample Data (k={optimal_clusters})')\n",
    "plt.xlabel('Mileage')\n",
    "plt.ylabel('Price')\n",
    "plt.colorbar(label='Cluster Label')\n",
    "plt.show()\n"
   ]
  },
  {
   "cell_type": "code",
   "execution_count": null,
   "id": "1b69e2ae-82b2-4c4c-a0fa-df9287f49da8",
   "metadata": {},
   "outputs": [],
   "source": [
    "The provided scatter plot visualizes K-means clustering results for a dataset containing \"Mileage\" (x-axis) and \"Price\" (y-axis). The clusters are represented by distinct colors, and the color bar on the side indicates the cluster labels ranging from 0 to 3 (as \n",
    "k=4).\n",
    "\n",
    "Key Observations:\n",
    "Cluster Distribution:\n",
    "\n",
    "Data points are grouped into four clusters based on the K-means algorithm.\n",
    "The clusters are relatively well-separated, especially near the lower price and mileage ranges.\n",
    "Price Outliers:\n",
    "\n",
    "There are a few significant outliers in the \"Price\" variable (e.g., points near 1.5e8 and 2.0e8).\n",
    "These outliers likely belong to separate clusters or skew the clustering results.\n",
    "Mileage and Price Relationship:\n",
    "\n",
    "Most data points are concentrated within lower mileage ranges (0−10,0000−10,000).\n",
    "Price shows a high concentration near lower values but increases sporadically for certain mileage ranges.\n",
    "Cluster Characteristics:\n",
    "\n",
    "Dark purple (Cluster 0) seems to dominate the lower mileage and price ranges.\n",
    "Yellow (Cluster 3) is more prominent in regions of higher price or more scattered distributions.\n",
    "Light green and teal clusters (Clusters 1 and 2) are distributed more sparsely, capturing edge cases or transitional regions.\n",
    "Conclusion:\n",
    "The clustering suggests distinct patterns between price and mileage:\n",
    "Low mileage & low price dominate the dataset, represented by one major cluster.\n",
    "Outliers significantly impact the clustering, indicating the need for preprocessing (e.g., outlier removal or normalization).\n",
    "Higher price ranges appear more scattered, likely influenced by additional unobserved factors beyond mileage. "
   ]
  }
 ],
 "metadata": {
  "kernelspec": {
   "display_name": "Python 3 (ipykernel)",
   "language": "python",
   "name": "python3"
  },
  "language_info": {
   "codemirror_mode": {
    "name": "ipython",
    "version": 3
   },
   "file_extension": ".py",
   "mimetype": "text/x-python",
   "name": "python",
   "nbconvert_exporter": "python",
   "pygments_lexer": "ipython3",
   "version": "3.11.7"
  }
 },
 "nbformat": 4,
 "nbformat_minor": 5
}
